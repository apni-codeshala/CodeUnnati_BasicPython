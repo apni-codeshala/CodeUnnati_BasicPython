{
 "cells": [
  {
   "cell_type": "code",
   "execution_count": 3,
   "id": "fa792bca",
   "metadata": {},
   "outputs": [
    {
     "name": "stdout",
     "output_type": "stream",
     "text": [
      "Hello World\n"
     ]
    }
   ],
   "source": [
    "print(\"Hello World\")"
   ]
  },
  {
   "cell_type": "markdown",
   "id": "67483a08",
   "metadata": {},
   "source": [
    "# Header 1\n",
    "## Header 2\n",
    "### Header 3"
   ]
  },
  {
   "cell_type": "code",
   "execution_count": 2,
   "id": "348e2fff",
   "metadata": {},
   "outputs": [],
   "source": [
    "count = 100\n",
    "kilometers = 1000.0\n",
    "name = 'Rahul'"
   ]
  },
  {
   "cell_type": "code",
   "execution_count": 2,
   "id": "12e920de",
   "metadata": {},
   "outputs": [
    {
     "name": "stdout",
     "output_type": "stream",
     "text": [
      "100 1000.0 Rahul\n"
     ]
    }
   ],
   "source": [
    "print(count, kilometers, name)"
   ]
  },
  {
   "cell_type": "code",
   "execution_count": 3,
   "id": "c6476933",
   "metadata": {},
   "outputs": [
    {
     "name": "stdout",
     "output_type": "stream",
     "text": [
      "1, 2, John\n"
     ]
    }
   ],
   "source": [
    "a, b, c = 1, 2, \"John\"\n",
    "print(a, b, c, sep=\", \")"
   ]
  },
  {
   "cell_type": "markdown",
   "id": "40b484cc",
   "metadata": {},
   "source": [
    "# Comments\n"
   ]
  },
  {
   "cell_type": "code",
   "execution_count": 4,
   "id": "04dfc2f9",
   "metadata": {},
   "outputs": [
    {
     "name": "stdout",
     "output_type": "stream",
     "text": [
      "Hello World\n"
     ]
    }
   ],
   "source": [
    "# This is single line comment:\n",
    "print(\"Hello World\")"
   ]
  },
  {
   "cell_type": "code",
   "execution_count": 5,
   "id": "678cecae",
   "metadata": {},
   "outputs": [
    {
     "name": "stdout",
     "output_type": "stream",
     "text": [
      "Hello World\n"
     ]
    }
   ],
   "source": [
    "#  This is a inline comment:\n",
    "print(\"Hello World\") # this is hello world program"
   ]
  },
  {
   "cell_type": "code",
   "execution_count": 6,
   "id": "a319df90",
   "metadata": {},
   "outputs": [
    {
     "name": "stdout",
     "output_type": "stream",
     "text": [
      "Hello World\n"
     ]
    }
   ],
   "source": [
    "# This is multi line comment:\n",
    "# This is a comment\n",
    "# This is a comment\n",
    "# This is a comment\n",
    "print(\"Hello World\")"
   ]
  },
  {
   "cell_type": "markdown",
   "id": "d3e380a2",
   "metadata": {},
   "source": [
    "# Data Types\n"
   ]
  },
  {
   "cell_type": "code",
   "execution_count": 7,
   "id": "791ebfc0",
   "metadata": {},
   "outputs": [
    {
     "name": "stdout",
     "output_type": "stream",
     "text": [
      "Hello World\n"
     ]
    }
   ],
   "source": [
    "# String\n",
    "x = \"Hello World\"\n",
    "print(x)"
   ]
  },
  {
   "cell_type": "code",
   "execution_count": 8,
   "id": "b4c727ff",
   "metadata": {},
   "outputs": [
    {
     "name": "stdout",
     "output_type": "stream",
     "text": [
      "20\n"
     ]
    }
   ],
   "source": [
    "# Integer\n",
    "x = 20\n",
    "print(x)"
   ]
  },
  {
   "cell_type": "code",
   "execution_count": 9,
   "id": "ed1abc01",
   "metadata": {},
   "outputs": [
    {
     "name": "stdout",
     "output_type": "stream",
     "text": [
      "20.5\n"
     ]
    }
   ],
   "source": [
    "# Float\n",
    "x = 20.5\n",
    "print(x)"
   ]
  },
  {
   "cell_type": "code",
   "execution_count": 10,
   "id": "de62d96c",
   "metadata": {},
   "outputs": [
    {
     "name": "stdout",
     "output_type": "stream",
     "text": [
      "['apple', 'banana', 'cherry']\n"
     ]
    }
   ],
   "source": [
    "# List\n",
    "x = [\"apple\", \"banana\", \"cherry\"]\n",
    "print(x)"
   ]
  },
  {
   "cell_type": "code",
   "execution_count": 11,
   "id": "ed75e4c9",
   "metadata": {},
   "outputs": [
    {
     "name": "stdout",
     "output_type": "stream",
     "text": [
      "('apple', 'banana', 'cherry')\n"
     ]
    }
   ],
   "source": [
    "# Tuple\n",
    "x = (\"apple\", \"banana\", \"cherry\")\n",
    "print(x)"
   ]
  },
  {
   "cell_type": "code",
   "execution_count": 12,
   "id": "e522d858",
   "metadata": {},
   "outputs": [
    {
     "name": "stdout",
     "output_type": "stream",
     "text": [
      "range(0, 6)\n"
     ]
    }
   ],
   "source": [
    "# Range\n",
    "x = range(6)\n",
    "print(x)"
   ]
  },
  {
   "cell_type": "code",
   "execution_count": 13,
   "id": "308b3276",
   "metadata": {},
   "outputs": [
    {
     "name": "stdout",
     "output_type": "stream",
     "text": [
      "{'name': 'John', 'age': 36}\n"
     ]
    }
   ],
   "source": [
    "# Dictionary\n",
    "x= {\"name\": \"John\", \"age\": 36}\n",
    "print(x)"
   ]
  },
  {
   "cell_type": "code",
   "execution_count": 14,
   "id": "b55fdff6",
   "metadata": {},
   "outputs": [
    {
     "name": "stdout",
     "output_type": "stream",
     "text": [
      "{'cherry', 'banana', 'apple'}\n"
     ]
    }
   ],
   "source": [
    "# Set\n",
    "x = {\"apple\", \"banana\", \"cherry\"}\n",
    "print(x)"
   ]
  },
  {
   "cell_type": "code",
   "execution_count": 15,
   "id": "2d0226f5",
   "metadata": {},
   "outputs": [
    {
     "name": "stdout",
     "output_type": "stream",
     "text": [
      "frozenset({'cherry', 'banana', 'apple'})\n"
     ]
    }
   ],
   "source": [
    "# Frozen set\n",
    "x = frozenset({\"apple\", \"banana\", \"cherry\"})\n",
    "print(x)"
   ]
  },
  {
   "cell_type": "markdown",
   "id": "82309a17",
   "metadata": {},
   "source": [
    "# Taking input\n"
   ]
  },
  {
   "cell_type": "code",
   "execution_count": 19,
   "id": "f3b63172",
   "metadata": {},
   "outputs": [
    {
     "name": "stdout",
     "output_type": "stream",
     "text": [
      "Enter the name: Barmunda Kumar\n",
      "Enter salary: 000\n",
      "Enter company name: Doodle\n",
      "\n",
      "\n",
      "Printing employee details\n",
      "Name -  Barmunda Kumar\n",
      "Salary -  000\n",
      "Company -  Doodle\n"
     ]
    }
   ],
   "source": [
    "# Take three input from user\n",
    "name = input(\"Enter the name: \")\n",
    "salary = input(\"Enter salary: \")\n",
    "company = input(\"Enter company name: \")\n",
    "\n",
    "# Display all values on screen\n",
    "print(\"\\n\")\n",
    "print(\"Printing employee details\")\n",
    "print(\"Name - \",name)\n",
    "print(\"Salary - \", salary)\n",
    "print(\"Company - \", company)"
   ]
  },
  {
   "cell_type": "markdown",
   "id": "40a160f3",
   "metadata": {},
   "source": [
    "# Values"
   ]
  },
  {
   "cell_type": "code",
   "execution_count": 20,
   "id": "d528a422",
   "metadata": {},
   "outputs": [],
   "source": [
    "a = 10"
   ]
  },
  {
   "cell_type": "code",
   "execution_count": 21,
   "id": "e5207a76",
   "metadata": {},
   "outputs": [
    {
     "data": {
      "text/plain": [
       "10"
      ]
     },
     "execution_count": 21,
     "metadata": {},
     "output_type": "execute_result"
    }
   ],
   "source": [
    "a"
   ]
  },
  {
   "cell_type": "code",
   "execution_count": 22,
   "id": "c62b32f9",
   "metadata": {},
   "outputs": [],
   "source": [
    "# Mutiple assignment\n",
    "b, c, d = 11, 12, 13"
   ]
  },
  {
   "cell_type": "code",
   "execution_count": 23,
   "id": "a334ca2e",
   "metadata": {},
   "outputs": [
    {
     "name": "stdout",
     "output_type": "stream",
     "text": [
      "10 11 12 13\n"
     ]
    }
   ],
   "source": [
    "print(a, b, c, d)"
   ]
  },
  {
   "cell_type": "code",
   "execution_count": 24,
   "id": "5bde977b",
   "metadata": {},
   "outputs": [
    {
     "data": {
      "text/plain": [
       "float"
      ]
     },
     "execution_count": 24,
     "metadata": {},
     "output_type": "execute_result"
    }
   ],
   "source": [
    "a = 32.3e18\n",
    "type(a)"
   ]
  },
  {
   "cell_type": "code",
   "execution_count": 25,
   "id": "87aa586a",
   "metadata": {},
   "outputs": [
    {
     "data": {
      "text/plain": [
       "complex"
      ]
     },
     "execution_count": 25,
     "metadata": {},
     "output_type": "execute_result"
    }
   ],
   "source": [
    "b = 3.14j\n",
    "type(b)"
   ]
  },
  {
   "cell_type": "code",
   "execution_count": 26,
   "id": "f5996924",
   "metadata": {},
   "outputs": [
    {
     "name": "stdout",
     "output_type": "stream",
     "text": [
      "3.23e+19\n",
      "3.14j\n"
     ]
    }
   ],
   "source": [
    "print(a, b, sep='\\n')"
   ]
  },
  {
   "cell_type": "markdown",
   "id": "25b48a7d",
   "metadata": {},
   "source": [
    "# String"
   ]
  },
  {
   "cell_type": "code",
   "execution_count": 27,
   "id": "468a5bf1",
   "metadata": {},
   "outputs": [],
   "source": [
    "str1 = 'Python is a programming language'"
   ]
  },
  {
   "cell_type": "code",
   "execution_count": 28,
   "id": "7ac35cce",
   "metadata": {},
   "outputs": [
    {
     "name": "stdout",
     "output_type": "stream",
     "text": [
      "Python is a programming language\n"
     ]
    }
   ],
   "source": [
    "print(str1)"
   ]
  },
  {
   "cell_type": "code",
   "execution_count": 29,
   "id": "652c6939",
   "metadata": {},
   "outputs": [
    {
     "name": "stdout",
     "output_type": "stream",
     "text": [
      "P\n"
     ]
    }
   ],
   "source": [
    "print(str1[0])"
   ]
  },
  {
   "cell_type": "code",
   "execution_count": 30,
   "id": "01efdf02",
   "metadata": {},
   "outputs": [
    {
     "name": "stdout",
     "output_type": "stream",
     "text": [
      "thon is \n"
     ]
    }
   ],
   "source": [
    "print(str1[2:10])"
   ]
  },
  {
   "cell_type": "code",
   "execution_count": 31,
   "id": "2be90ebf",
   "metadata": {},
   "outputs": [
    {
     "name": "stdout",
     "output_type": "stream",
     "text": [
      " is a progra\n"
     ]
    }
   ],
   "source": [
    "print(str1[6:18])"
   ]
  },
  {
   "cell_type": "markdown",
   "id": "bb111e8c",
   "metadata": {},
   "source": [
    "# String Formating"
   ]
  },
  {
   "cell_type": "code",
   "execution_count": 33,
   "id": "97d772f0",
   "metadata": {},
   "outputs": [
    {
     "name": "stdout",
     "output_type": "stream",
     "text": [
      "Print string in default order: \n",
      "Python Programming Language\n"
     ]
    }
   ],
   "source": [
    "# Three curly braces are placeholder\n",
    "String1 = \"{} {} {}\".format('Python', 'Programming', 'Language')\n",
    "print(\"Print string in default order: \")\n",
    "print(String1)"
   ]
  },
  {
   "cell_type": "markdown",
   "id": "fc0951f5",
   "metadata": {},
   "source": [
    "### String formating through indexes\n"
   ]
  },
  {
   "cell_type": "code",
   "execution_count": 35,
   "id": "9793cdd0",
   "metadata": {},
   "outputs": [
    {
     "name": "stdout",
     "output_type": "stream",
     "text": [
      "\n",
      "String in Positional order\n",
      "Programming Python Language\n"
     ]
    }
   ],
   "source": [
    "# Positional Formatting\n",
    "String1 = \"{1} {0} {2}\".format('Python', 'Programming', 'Language')\n",
    "print(\"\\nString in Positional order\")\n",
    "print(String1)"
   ]
  },
  {
   "cell_type": "code",
   "execution_count": 36,
   "id": "207fea9b",
   "metadata": {},
   "outputs": [
    {
     "name": "stdout",
     "output_type": "stream",
     "text": [
      "\n",
      "Print string in order of keyword\n",
      "Python Programming Language\n"
     ]
    }
   ],
   "source": [
    "# Keyword Fromatting\n",
    "String1 = \"{a} {e} {c}\".format(a='Python', e='Programming', c='Language')\n",
    "print(\"\\nPrint string in order of keyword\")\n",
    "print(String1)"
   ]
  },
  {
   "cell_type": "code",
   "execution_count": 38,
   "id": "2004f4bc",
   "metadata": {},
   "outputs": [
    {
     "name": "stdout",
     "output_type": "stream",
     "text": [
      "Saswat is the student of my class.\n",
      "Hello, My name is Abhishek and I'm 19 years old\n"
     ]
    }
   ],
   "source": [
    "# Program on f-string\n",
    "\n",
    "val = 'Saswat'\n",
    "print(f\"{val} is the student of my class.\")\n",
    "      \n",
    "name = 'Abhishek'\n",
    "age = 19\n",
    "print(f\"Hello, My name is {name} and I'm {age} years old\")"
   ]
  },
  {
   "cell_type": "markdown",
   "id": "c85db604",
   "metadata": {},
   "source": [
    "# String Methods\n",
    "    1. upper()\n",
    "    2. lower()\n",
    "    3. title()\n",
    "    4. capitalize()\n",
    "    5. swapcase()\n",
    "    6. isalpha()\n",
    "    7. isdigit()\n",
    "    8. join()\n",
    "    9. strip()\n",
    "    10. split()"
   ]
  },
  {
   "cell_type": "code",
   "execution_count": 39,
   "id": "6adb7cf6",
   "metadata": {},
   "outputs": [],
   "source": [
    "s = \"I love my INDIA  \""
   ]
  },
  {
   "cell_type": "code",
   "execution_count": 41,
   "id": "b0de9fa3",
   "metadata": {},
   "outputs": [
    {
     "name": "stdout",
     "output_type": "stream",
     "text": [
      "Actual String :  I love my INDIA  \n"
     ]
    }
   ],
   "source": [
    "print(\"Actual String : \",s)"
   ]
  },
  {
   "cell_type": "code",
   "execution_count": 42,
   "id": "a5633f86",
   "metadata": {},
   "outputs": [
    {
     "name": "stdout",
     "output_type": "stream",
     "text": [
      "Length is :  17\n"
     ]
    }
   ],
   "source": [
    "print(\"Length is : \", len(s))"
   ]
  },
  {
   "cell_type": "code",
   "execution_count": 43,
   "id": "e870501d",
   "metadata": {},
   "outputs": [],
   "source": [
    "s = s.strip()"
   ]
  },
  {
   "cell_type": "code",
   "execution_count": 44,
   "id": "fdc855b0",
   "metadata": {},
   "outputs": [
    {
     "name": "stdout",
     "output_type": "stream",
     "text": [
      "Stripped string :  I love my INDIA\n"
     ]
    }
   ],
   "source": [
    "print(\"Stripped string : \", s)"
   ]
  },
  {
   "cell_type": "code",
   "execution_count": 45,
   "id": "aa2fcf2c",
   "metadata": {},
   "outputs": [
    {
     "name": "stdout",
     "output_type": "stream",
     "text": [
      "Length is :  15\n"
     ]
    }
   ],
   "source": [
    "print(\"Length is : \", len(s))"
   ]
  },
  {
   "cell_type": "code",
   "execution_count": 46,
   "id": "aea7de1c",
   "metadata": {},
   "outputs": [
    {
     "name": "stdout",
     "output_type": "stream",
     "text": [
      "Upper Case :  I LOVE MY INDIA\n"
     ]
    }
   ],
   "source": [
    "print(\"Upper Case : \", s.upper())"
   ]
  },
  {
   "cell_type": "code",
   "execution_count": 47,
   "id": "c0b05411",
   "metadata": {},
   "outputs": [
    {
     "name": "stdout",
     "output_type": "stream",
     "text": [
      "Lower case :  i love my india\n"
     ]
    }
   ],
   "source": [
    "print(\"Lower case : \", s.lower())"
   ]
  },
  {
   "cell_type": "code",
   "execution_count": 49,
   "id": "c2c6a9e2",
   "metadata": {},
   "outputs": [
    {
     "name": "stdout",
     "output_type": "stream",
     "text": [
      "Title case :  I Love My India\n"
     ]
    }
   ],
   "source": [
    "print(\"Title case : \", s.title())"
   ]
  },
  {
   "cell_type": "code",
   "execution_count": 50,
   "id": "d58d296c",
   "metadata": {},
   "outputs": [
    {
     "name": "stdout",
     "output_type": "stream",
     "text": [
      "Capitalize case :  I love my india\n"
     ]
    }
   ],
   "source": [
    "print(\"Capitalize case : \", s.capitalize())"
   ]
  },
  {
   "cell_type": "code",
   "execution_count": 51,
   "id": "a7406bfe",
   "metadata": {},
   "outputs": [
    {
     "name": "stdout",
     "output_type": "stream",
     "text": [
      "['I', 'love', 'my', 'INDIA']\n"
     ]
    }
   ],
   "source": [
    "t = s.split()\n",
    "print(t)\n"
   ]
  },
  {
   "cell_type": "code",
   "execution_count": 55,
   "id": "50205d60",
   "metadata": {},
   "outputs": [
    {
     "name": "stdout",
     "output_type": "stream",
     "text": [
      "I love my INDIA\n"
     ]
    }
   ],
   "source": [
    "k = \" \".join(t)\n",
    "print(k)"
   ]
  },
  {
   "cell_type": "markdown",
   "id": "ca544783",
   "metadata": {},
   "source": [
    "# Operators\n"
   ]
  },
  {
   "cell_type": "code",
   "execution_count": 57,
   "id": "efe79371",
   "metadata": {},
   "outputs": [
    {
     "name": "stdout",
     "output_type": "stream",
     "text": [
      "Addition :  8\n",
      "Subtraction :  2\n",
      "Multiply :  15\n",
      "Divide :  1.6666666666666667\n"
     ]
    }
   ],
   "source": [
    "# addition, subtraction, multiplication, division: +, -, *, %, / etc\n",
    "x = 5\n",
    "y = 3\n",
    "print(\"Addition : \",x+y)\n",
    "print(\"Subtraction : \",x-y)\n",
    "print(\"Multiply : \",x*y)\n",
    "print(\"Divide : \",x/y)"
   ]
  },
  {
   "cell_type": "markdown",
   "id": "0c3673c4",
   "metadata": {},
   "source": [
    "### Assignment Operator\n"
   ]
  },
  {
   "cell_type": "code",
   "execution_count": 58,
   "id": "a84592f0",
   "metadata": {},
   "outputs": [
    {
     "name": "stdout",
     "output_type": "stream",
     "text": [
      "8\n"
     ]
    }
   ],
   "source": [
    "x = 5\n",
    "x += 3\n",
    "print(x)"
   ]
  },
  {
   "cell_type": "code",
   "execution_count": 59,
   "id": "16b114bb",
   "metadata": {},
   "outputs": [
    {
     "name": "stdout",
     "output_type": "stream",
     "text": [
      "15\n"
     ]
    }
   ],
   "source": [
    "x = 5\n",
    "x *= 3\n",
    "print(x)"
   ]
  },
  {
   "cell_type": "markdown",
   "id": "e26a3111",
   "metadata": {},
   "source": [
    "### Comparison Operator"
   ]
  },
  {
   "cell_type": "code",
   "execution_count": 60,
   "id": "897aea46",
   "metadata": {},
   "outputs": [
    {
     "name": "stdout",
     "output_type": "stream",
     "text": [
      "False\n"
     ]
    }
   ],
   "source": [
    "x = 5\n",
    "y = 3\n",
    "print(x == y)"
   ]
  },
  {
   "cell_type": "code",
   "execution_count": 61,
   "id": "9fdf67a3",
   "metadata": {},
   "outputs": [
    {
     "name": "stdout",
     "output_type": "stream",
     "text": [
      "True\n"
     ]
    }
   ],
   "source": [
    "x = 5\n",
    "y = 3\n",
    "print(x != y)"
   ]
  },
  {
   "cell_type": "markdown",
   "id": "2635538a",
   "metadata": {},
   "source": [
    "### Logical Operator\n"
   ]
  },
  {
   "cell_type": "code",
   "execution_count": 62,
   "id": "119e721d",
   "metadata": {},
   "outputs": [
    {
     "name": "stdout",
     "output_type": "stream",
     "text": [
      "True\n"
     ]
    }
   ],
   "source": [
    "x = 5\n",
    "print(x > 3 and x < 10)"
   ]
  },
  {
   "cell_type": "code",
   "execution_count": 64,
   "id": "ec35952b",
   "metadata": {},
   "outputs": [
    {
     "name": "stdout",
     "output_type": "stream",
     "text": [
      "True\n"
     ]
    }
   ],
   "source": [
    "x = 5\n",
    "print(x > 3 or x < 4)"
   ]
  },
  {
   "cell_type": "markdown",
   "id": "bb643290",
   "metadata": {},
   "source": [
    "# List\n",
    "Like array in C. But one difference is we can store different types of vaslue in it. The values can be change inside list unlike tuple\n",
    "\n",
    "*(For Repitation), +(For Concatination)"
   ]
  },
  {
   "cell_type": "code",
   "execution_count": 65,
   "id": "df235f17",
   "metadata": {},
   "outputs": [],
   "source": [
    "L = [1, 2, 3, \"abes\", 12.5]"
   ]
  },
  {
   "cell_type": "code",
   "execution_count": 66,
   "id": "f6a76ae7",
   "metadata": {},
   "outputs": [
    {
     "data": {
      "text/plain": [
       "[1, 2, 3, 'abes', 12.5]"
      ]
     },
     "execution_count": 66,
     "metadata": {},
     "output_type": "execute_result"
    }
   ],
   "source": [
    "L\n"
   ]
  },
  {
   "cell_type": "code",
   "execution_count": 67,
   "id": "8dd6d0fd",
   "metadata": {},
   "outputs": [
    {
     "data": {
      "text/plain": [
       "[1, 2, 3]"
      ]
     },
     "execution_count": 67,
     "metadata": {},
     "output_type": "execute_result"
    }
   ],
   "source": [
    "L[0:3]"
   ]
  },
  {
   "cell_type": "code",
   "execution_count": 68,
   "id": "70f29b15",
   "metadata": {},
   "outputs": [],
   "source": [
    "L[0] = 10"
   ]
  },
  {
   "cell_type": "code",
   "execution_count": 69,
   "id": "f143dc7d",
   "metadata": {},
   "outputs": [
    {
     "data": {
      "text/plain": [
       "[10, 2, 3, 'abes', 12.5]"
      ]
     },
     "execution_count": 69,
     "metadata": {},
     "output_type": "execute_result"
    }
   ],
   "source": [
    "L"
   ]
  },
  {
   "cell_type": "markdown",
   "id": "0dda137f",
   "metadata": {},
   "source": [
    "### Split"
   ]
  },
  {
   "cell_type": "code",
   "execution_count": 70,
   "id": "a7aa6d85",
   "metadata": {},
   "outputs": [
    {
     "name": "stdout",
     "output_type": "stream",
     "text": [
      "Enter the sentence: I love my India\n",
      "['I', 'love', 'my', 'India']\n"
     ]
    }
   ],
   "source": [
    "# Write a program to take input a sentence and split it in list\n",
    "text = input(\"Enter the sentence: \")\n",
    "print(text.split())"
   ]
  },
  {
   "cell_type": "markdown",
   "id": "3d93049f",
   "metadata": {},
   "source": [
    "### Concatenation"
   ]
  },
  {
   "cell_type": "code",
   "execution_count": 74,
   "id": "83412ffc",
   "metadata": {},
   "outputs": [],
   "source": [
    "list1 = ['abcd', 786, 2.23, 'john', 70.2]\n",
    "small = [123, 'john']"
   ]
  },
  {
   "cell_type": "code",
   "execution_count": 75,
   "id": "1f21ac66",
   "metadata": {},
   "outputs": [
    {
     "name": "stdout",
     "output_type": "stream",
     "text": [
      "[123, 'john', 123, 'john']\n"
     ]
    }
   ],
   "source": [
    "print(small * 2) # Print list two times"
   ]
  },
  {
   "cell_type": "code",
   "execution_count": 76,
   "id": "0ff764a5",
   "metadata": {},
   "outputs": [
    {
     "name": "stdout",
     "output_type": "stream",
     "text": [
      "['abcd', 786, 2.23, 'john', 70.2, 123, 'john']\n"
     ]
    }
   ],
   "source": [
    "print(list1 + small) # Cocatenate the list"
   ]
  },
  {
   "cell_type": "markdown",
   "id": "ee6eece7",
   "metadata": {},
   "source": [
    "# Tuple\n",
    "\n",
    "It is a ummutable datatype(unchangable)"
   ]
  },
  {
   "cell_type": "code",
   "execution_count": 77,
   "id": "2a477344",
   "metadata": {},
   "outputs": [],
   "source": [
    "tuple1 = ('abcd', 786, 2.23, 'john', 70.2)\n",
    "tuple2 = (123, 'john')"
   ]
  },
  {
   "cell_type": "code",
   "execution_count": 79,
   "id": "8f7414d9",
   "metadata": {},
   "outputs": [
    {
     "name": "stdout",
     "output_type": "stream",
     "text": [
      "('abcd', 786, 2.23, 'john', 70.2)\n"
     ]
    }
   ],
   "source": [
    "print(tuple1)"
   ]
  },
  {
   "cell_type": "code",
   "execution_count": 80,
   "id": "0b98d195",
   "metadata": {},
   "outputs": [
    {
     "name": "stdout",
     "output_type": "stream",
     "text": [
      "abcd\n"
     ]
    }
   ],
   "source": [
    "print(tuple1[0])"
   ]
  },
  {
   "cell_type": "code",
   "execution_count": 81,
   "id": "d7d5f18a",
   "metadata": {},
   "outputs": [
    {
     "name": "stdout",
     "output_type": "stream",
     "text": [
      "(786, 2.23)\n"
     ]
    }
   ],
   "source": [
    "print(tuple1[1:3])  "
   ]
  },
  {
   "cell_type": "code",
   "execution_count": 82,
   "id": "d4a9766c",
   "metadata": {},
   "outputs": [
    {
     "name": "stdout",
     "output_type": "stream",
     "text": [
      "(2.23, 'john', 70.2)\n"
     ]
    }
   ],
   "source": [
    "print(tuple1[2:]) "
   ]
  },
  {
   "cell_type": "code",
   "execution_count": 83,
   "id": "3b661ad3",
   "metadata": {},
   "outputs": [
    {
     "name": "stdout",
     "output_type": "stream",
     "text": [
      "(123, 'john', 123, 'john')\n"
     ]
    }
   ],
   "source": [
    "print(tuple2 * 2)"
   ]
  },
  {
   "cell_type": "code",
   "execution_count": 84,
   "id": "f2d7d865",
   "metadata": {},
   "outputs": [
    {
     "name": "stdout",
     "output_type": "stream",
     "text": [
      "('abcd', 786, 2.23, 'john', 70.2, 123, 'john')\n"
     ]
    }
   ],
   "source": [
    "print(tuple1 + tuple2)"
   ]
  },
  {
   "cell_type": "code",
   "execution_count": 85,
   "id": "151ed439",
   "metadata": {},
   "outputs": [],
   "source": [
    "tuple1 = ('pqrs', 123, 2.14, 'python', 98.6)\n",
    "list1 = ['pqrs', 123, 2.14, 'python', 98.6]\n"
   ]
  },
  {
   "cell_type": "code",
   "execution_count": 86,
   "id": "56da28ae",
   "metadata": {},
   "outputs": [
    {
     "ename": "TypeError",
     "evalue": "'tuple' object does not support item assignment",
     "output_type": "error",
     "traceback": [
      "\u001b[1;31m---------------------------------------------------------------------------\u001b[0m",
      "\u001b[1;31mTypeError\u001b[0m                                 Traceback (most recent call last)",
      "Input \u001b[1;32mIn [86]\u001b[0m, in \u001b[0;36m<cell line: 1>\u001b[1;34m()\u001b[0m\n\u001b[1;32m----> 1\u001b[0m tuple1[\u001b[38;5;241m2\u001b[39m] \u001b[38;5;241m=\u001b[39m \u001b[38;5;241m1000\u001b[39m     \u001b[38;5;66;03m# Invalid syntax with tuple\u001b[39;00m\n\u001b[0;32m      2\u001b[0m list1[\u001b[38;5;241m2\u001b[39m] \u001b[38;5;241m=\u001b[39m \u001b[38;5;241m1000\u001b[39m\n",
      "\u001b[1;31mTypeError\u001b[0m: 'tuple' object does not support item assignment"
     ]
    }
   ],
   "source": [
    "tuple1[2] = 1000     # Invalid syntax with tuple\n",
    "list1[2] = 1000      # Valid syntax with list"
   ]
  },
  {
   "cell_type": "markdown",
   "id": "639e012f",
   "metadata": {},
   "source": [
    "# Dictionary\n",
    "\n",
    "Like classess in Javascript. It has key value pairs"
   ]
  },
  {
   "cell_type": "code",
   "execution_count": 87,
   "id": "de121d05",
   "metadata": {},
   "outputs": [
    {
     "name": "stdout",
     "output_type": "stream",
     "text": [
      "{'one': 'This is a Python', 2: 'This is a Java'}\n"
     ]
    }
   ],
   "source": [
    "dict1 = {}\n",
    "dict1['one'] = \"This is a Python\"\n",
    "dict1[2] = \"This is a Java\"\n",
    "print(dict1)"
   ]
  },
  {
   "cell_type": "code",
   "execution_count": 88,
   "id": "feae0ba9",
   "metadata": {},
   "outputs": [],
   "source": [
    "dict2 = {'name': 'rohit', 'id': 1234, 'dept': 'technical'}"
   ]
  },
  {
   "cell_type": "code",
   "execution_count": 89,
   "id": "b19e94c4",
   "metadata": {},
   "outputs": [
    {
     "name": "stdout",
     "output_type": "stream",
     "text": [
      "{'name': 'rohit', 'id': 1234, 'dept': 'technical'}\n"
     ]
    }
   ],
   "source": [
    "print(dict2)"
   ]
  },
  {
   "cell_type": "code",
   "execution_count": 93,
   "id": "9b197bfd",
   "metadata": {},
   "outputs": [
    {
     "name": "stdout",
     "output_type": "stream",
     "text": [
      "This is a Python\n"
     ]
    }
   ],
   "source": [
    "print(dict1['one'])"
   ]
  },
  {
   "cell_type": "code",
   "execution_count": 94,
   "id": "14658c70",
   "metadata": {},
   "outputs": [
    {
     "name": "stdout",
     "output_type": "stream",
     "text": [
      "This is a Java\n"
     ]
    }
   ],
   "source": [
    "print(dict1[2])"
   ]
  },
  {
   "cell_type": "code",
   "execution_count": 90,
   "id": "dc35e437",
   "metadata": {},
   "outputs": [
    {
     "name": "stdout",
     "output_type": "stream",
     "text": [
      "dict_keys(['name', 'id', 'dept'])\n"
     ]
    }
   ],
   "source": [
    "print(dict2.keys())      # Print all keys"
   ]
  },
  {
   "cell_type": "code",
   "execution_count": 91,
   "id": "5d80352e",
   "metadata": {},
   "outputs": [
    {
     "name": "stdout",
     "output_type": "stream",
     "text": [
      "dict_values(['rohit', 1234, 'technical'])\n"
     ]
    }
   ],
   "source": [
    "print(dict2.values())   # PRint all values"
   ]
  },
  {
   "cell_type": "markdown",
   "id": "a4a546d4",
   "metadata": {},
   "source": [
    "# Set\n",
    "\n",
    "It is a unordered collection of unique elements.\n",
    "\n",
    "It is unchangable also."
   ]
  },
  {
   "cell_type": "code",
   "execution_count": 95,
   "id": "f5892199",
   "metadata": {},
   "outputs": [
    {
     "name": "stdout",
     "output_type": "stream",
     "text": [
      "{1, 2, 3, 4, 5}\n"
     ]
    }
   ],
   "source": [
    "set1 = {1, 2, 2, 3, 4, 4, 4, 1, 3, 5}\n",
    "print(set1)"
   ]
  },
  {
   "cell_type": "markdown",
   "id": "8ac5fa69",
   "metadata": {},
   "source": [
    "# Type casting"
   ]
  },
  {
   "cell_type": "code",
   "execution_count": 96,
   "id": "bcf6b2a5",
   "metadata": {},
   "outputs": [
    {
     "name": "stdout",
     "output_type": "stream",
     "text": [
      "100.0\n",
      "<class 'int'>\n"
     ]
    }
   ],
   "source": [
    "# Integer\n",
    "n = 100\n",
    "\n",
    "# Float \n",
    "f = float(n)\n",
    "print(f)\n",
    "print(type(n))"
   ]
  },
  {
   "cell_type": "code",
   "execution_count": 99,
   "id": "fa5e0e4a",
   "metadata": {},
   "outputs": [
    {
     "name": "stdout",
     "output_type": "stream",
     "text": [
      "100\n",
      "<class 'str'>\n"
     ]
    }
   ],
   "source": [
    "# String\n",
    "s = str(n)\n",
    "print(s)\n",
    "print(type(s))"
   ]
  },
  {
   "cell_type": "markdown",
   "id": "a362baf4",
   "metadata": {},
   "source": [
    "# List - Indexing and slicing"
   ]
  },
  {
   "cell_type": "code",
   "execution_count": 100,
   "id": "d9d13c1d",
   "metadata": {},
   "outputs": [],
   "source": [
    "a = ['spam', 'egg', 'bacon', 'tomato', 'ham', 'lobster']"
   ]
  },
  {
   "cell_type": "code",
   "execution_count": 102,
   "id": "a180f8fd",
   "metadata": {},
   "outputs": [
    {
     "name": "stdout",
     "output_type": "stream",
     "text": [
      "['bacon', 'tomato', 'ham']\n"
     ]
    }
   ],
   "source": [
    "print(a[2:5])"
   ]
  },
  {
   "cell_type": "code",
   "execution_count": null,
   "id": "65d21911",
   "metadata": {},
   "outputs": [],
   "source": []
  }
 ],
 "metadata": {
  "kernelspec": {
   "display_name": "Python 3 (ipykernel)",
   "language": "python",
   "name": "python3"
  },
  "language_info": {
   "codemirror_mode": {
    "name": "ipython",
    "version": 3
   },
   "file_extension": ".py",
   "mimetype": "text/x-python",
   "name": "python",
   "nbconvert_exporter": "python",
   "pygments_lexer": "ipython3",
   "version": "3.9.12"
  }
 },
 "nbformat": 4,
 "nbformat_minor": 5
}
