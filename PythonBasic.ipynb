{
 "cells": [
  {
   "cell_type": "code",
   "execution_count": 1,
   "id": "25219ea7",
   "metadata": {},
   "outputs": [
    {
     "name": "stdout",
     "output_type": "stream",
     "text": [
      "Hello World\n"
     ]
    }
   ],
   "source": [
    "print(\"Hello World\")"
   ]
  },
  {
   "cell_type": "markdown",
   "id": "f9a62c9c",
   "metadata": {},
   "source": [
    "# Header 1\n",
    "## Header 2\n",
    "### Header 3"
   ]
  },
  {
   "cell_type": "code",
   "execution_count": 2,
   "id": "348e2fff",
   "metadata": {},
   "outputs": [],
   "source": [
    "count = 100\n",
    "kilometers = 1000.0\n",
    "name = 'Rahul'"
   ]
  },
  {
   "cell_type": "code",
   "execution_count": 2,
   "id": "12e920de",
   "metadata": {},
   "outputs": [
    {
     "name": "stdout",
     "output_type": "stream",
     "text": [
      "100 1000.0 Rahul\n"
     ]
    }
   ],
   "source": [
    "print(count, kilometers, name)"
   ]
  },
  {
   "cell_type": "code",
   "execution_count": 3,
   "id": "c6476933",
   "metadata": {},
   "outputs": [
    {
     "name": "stdout",
     "output_type": "stream",
     "text": [
      "1, 2, John\n"
     ]
    }
   ],
   "source": [
    "a, b, c = 1, 2, \"John\"\n",
    "print(a, b, c, sep=\", \")"
   ]
  },
  {
   "cell_type": "markdown",
   "id": "ac8d3a9d",
   "metadata": {},
   "source": [
    "# Comments\n"
   ]
  },
  {
   "cell_type": "code",
   "execution_count": 4,
   "id": "04dfc2f9",
   "metadata": {},
   "outputs": [
    {
     "name": "stdout",
     "output_type": "stream",
     "text": [
      "Hello World\n"
     ]
    }
   ],
   "source": [
    "# This is single line comment:\n",
    "print(\"Hello World\")"
   ]
  },
  {
   "cell_type": "code",
   "execution_count": 5,
   "id": "678cecae",
   "metadata": {},
   "outputs": [
    {
     "name": "stdout",
     "output_type": "stream",
     "text": [
      "Hello World\n"
     ]
    }
   ],
   "source": [
    "#  This is a inline comment:\n",
    "print(\"Hello World\") # this is hello world program"
   ]
  },
  {
   "cell_type": "code",
   "execution_count": 6,
   "id": "a319df90",
   "metadata": {},
   "outputs": [
    {
     "name": "stdout",
     "output_type": "stream",
     "text": [
      "Hello World\n"
     ]
    }
   ],
   "source": [
    "# This is multi line comment:\n",
    "# This is a comment\n",
    "# This is a comment\n",
    "# This is a comment\n",
    "print(\"Hello World\")"
   ]
  },
  {
   "cell_type": "markdown",
   "id": "a26d311c",
   "metadata": {},
   "source": [
    "# Data Types\n"
   ]
  },
  {
   "cell_type": "code",
   "execution_count": 7,
   "id": "791ebfc0",
   "metadata": {},
   "outputs": [
    {
     "name": "stdout",
     "output_type": "stream",
     "text": [
      "Hello World\n"
     ]
    }
   ],
   "source": [
    "# String\n",
    "x = \"Hello World\"\n",
    "print(x)"
   ]
  },
  {
   "cell_type": "code",
   "execution_count": 8,
   "id": "6510d11e",
   "metadata": {},
   "outputs": [
    {
     "name": "stdout",
     "output_type": "stream",
     "text": [
      "20\n"
     ]
    }
   ],
   "source": [
    "# Integer\n",
    "x = 20\n",
    "print(x)"
   ]
  },
  {
   "cell_type": "code",
   "execution_count": 9,
   "id": "fe01c994",
   "metadata": {},
   "outputs": [
    {
     "name": "stdout",
     "output_type": "stream",
     "text": [
      "20.5\n"
     ]
    }
   ],
   "source": [
    "# Float\n",
    "x = 20.5\n",
    "print(x)"
   ]
  },
  {
   "cell_type": "code",
   "execution_count": 10,
   "id": "5fb10cfa",
   "metadata": {},
   "outputs": [
    {
     "name": "stdout",
     "output_type": "stream",
     "text": [
      "['apple', 'banana', 'cherry']\n"
     ]
    }
   ],
   "source": [
    "# List\n",
    "x = [\"apple\", \"banana\", \"cherry\"]\n",
    "print(x)"
   ]
  },
  {
   "cell_type": "code",
   "execution_count": 11,
   "id": "fdee7f78",
   "metadata": {},
   "outputs": [
    {
     "name": "stdout",
     "output_type": "stream",
     "text": [
      "('apple', 'banana', 'cherry')\n"
     ]
    }
   ],
   "source": [
    "# Tuple\n",
    "x = (\"apple\", \"banana\", \"cherry\")\n",
    "print(x)"
   ]
  },
  {
   "cell_type": "code",
   "execution_count": 12,
   "id": "efabca38",
   "metadata": {},
   "outputs": [
    {
     "name": "stdout",
     "output_type": "stream",
     "text": [
      "range(0, 6)\n"
     ]
    }
   ],
   "source": [
    "# Range\n",
    "x = range(6)\n",
    "print(x)"
   ]
  },
  {
   "cell_type": "code",
   "execution_count": 13,
   "id": "4f0eddfb",
   "metadata": {},
   "outputs": [
    {
     "name": "stdout",
     "output_type": "stream",
     "text": [
      "{'name': 'John', 'age': 36}\n"
     ]
    }
   ],
   "source": [
    "# Dictionary\n",
    "x= {\"name\": \"John\", \"age\": 36}\n",
    "print(x)"
   ]
  },
  {
   "cell_type": "code",
   "execution_count": 14,
   "id": "b8d8a88e",
   "metadata": {},
   "outputs": [
    {
     "name": "stdout",
     "output_type": "stream",
     "text": [
      "{'cherry', 'banana', 'apple'}\n"
     ]
    }
   ],
   "source": [
    "# Set\n",
    "x = {\"apple\", \"banana\", \"cherry\"}\n",
    "print(x)"
   ]
  },
  {
   "cell_type": "code",
   "execution_count": 15,
   "id": "87cda29c",
   "metadata": {},
   "outputs": [
    {
     "name": "stdout",
     "output_type": "stream",
     "text": [
      "frozenset({'cherry', 'banana', 'apple'})\n"
     ]
    }
   ],
   "source": [
    "# Frozen set\n",
    "x = frozenset({\"apple\", \"banana\", \"cherry\"})\n",
    "print(x)"
   ]
  },
  {
   "cell_type": "markdown",
   "id": "f553b67b",
   "metadata": {},
   "source": [
    "# Taking input\n"
   ]
  },
  {
   "cell_type": "code",
   "execution_count": 19,
   "id": "b3337ae6",
   "metadata": {},
   "outputs": [
    {
     "name": "stdout",
     "output_type": "stream",
     "text": [
      "Enter the name: Barmunda Kumar\n",
      "Enter salary: 000\n",
      "Enter company name: Doodle\n",
      "\n",
      "\n",
      "Printing employee details\n",
      "Name -  Barmunda Kumar\n",
      "Salary -  000\n",
      "Company -  Doodle\n"
     ]
    }
   ],
   "source": [
    "# Take three input from user\n",
    "name = input(\"Enter the name: \")\n",
    "salary = input(\"Enter salary: \")\n",
    "company = input(\"Enter company name: \")\n",
    "\n",
    "# Display all values on screen\n",
    "print(\"\\n\")\n",
    "print(\"Printing employee details\")\n",
    "print(\"Name - \",name)\n",
    "print(\"Salary - \", salary)\n",
    "print(\"Company - \", company)"
   ]
  },
  {
   "cell_type": "markdown",
   "id": "ca4c4c28",
   "metadata": {},
   "source": [
    "# Values"
   ]
  },
  {
   "cell_type": "code",
   "execution_count": 20,
   "id": "ce89c7f9",
   "metadata": {},
   "outputs": [],
   "source": [
    "a = 10"
   ]
  },
  {
   "cell_type": "code",
   "execution_count": 21,
   "id": "d57a25ce",
   "metadata": {},
   "outputs": [
    {
     "data": {
      "text/plain": [
       "10"
      ]
     },
     "execution_count": 21,
     "metadata": {},
     "output_type": "execute_result"
    }
   ],
   "source": [
    "a"
   ]
  },
  {
   "cell_type": "code",
   "execution_count": 22,
   "id": "768a81a5",
   "metadata": {},
   "outputs": [],
   "source": [
    "# Mutiple assignment\n",
    "b, c, d = 11, 12, 13"
   ]
  },
  {
   "cell_type": "code",
   "execution_count": 23,
   "id": "987b23ff",
   "metadata": {},
   "outputs": [
    {
     "name": "stdout",
     "output_type": "stream",
     "text": [
      "10 11 12 13\n"
     ]
    }
   ],
   "source": [
    "print(a, b, c, d)"
   ]
  },
  {
   "cell_type": "code",
   "execution_count": 24,
   "id": "7245c667",
   "metadata": {},
   "outputs": [
    {
     "data": {
      "text/plain": [
       "float"
      ]
     },
     "execution_count": 24,
     "metadata": {},
     "output_type": "execute_result"
    }
   ],
   "source": [
    "a = 32.3e18\n",
    "type(a)"
   ]
  },
  {
   "cell_type": "code",
   "execution_count": 25,
   "id": "82e543be",
   "metadata": {},
   "outputs": [
    {
     "data": {
      "text/plain": [
       "complex"
      ]
     },
     "execution_count": 25,
     "metadata": {},
     "output_type": "execute_result"
    }
   ],
   "source": [
    "b = 3.14j\n",
    "type(b)"
   ]
  },
  {
   "cell_type": "code",
   "execution_count": 26,
   "id": "1298cca6",
   "metadata": {},
   "outputs": [
    {
     "name": "stdout",
     "output_type": "stream",
     "text": [
      "3.23e+19\n",
      "3.14j\n"
     ]
    }
   ],
   "source": [
    "print(a, b, sep='\\n')"
   ]
  },
  {
   "cell_type": "markdown",
   "id": "ee607b65",
   "metadata": {},
   "source": [
    "# String"
   ]
  },
  {
   "cell_type": "code",
   "execution_count": 27,
   "id": "39552391",
   "metadata": {},
   "outputs": [],
   "source": [
    "str1 = 'Python is a programming language'"
   ]
  },
  {
   "cell_type": "code",
   "execution_count": 28,
   "id": "f0170363",
   "metadata": {},
   "outputs": [
    {
     "name": "stdout",
     "output_type": "stream",
     "text": [
      "Python is a programming language\n"
     ]
    }
   ],
   "source": [
    "print(str1)"
   ]
  },
  {
   "cell_type": "code",
   "execution_count": 29,
   "id": "54afd6be",
   "metadata": {},
   "outputs": [
    {
     "name": "stdout",
     "output_type": "stream",
     "text": [
      "P\n"
     ]
    }
   ],
   "source": [
    "print(str1[0])"
   ]
  },
  {
   "cell_type": "code",
   "execution_count": 30,
   "id": "0be6a82a",
   "metadata": {},
   "outputs": [
    {
     "name": "stdout",
     "output_type": "stream",
     "text": [
      "thon is \n"
     ]
    }
   ],
   "source": [
    "print(str1[2:10])"
   ]
  },
  {
   "cell_type": "code",
   "execution_count": 31,
   "id": "407c0d6a",
   "metadata": {},
   "outputs": [
    {
     "name": "stdout",
     "output_type": "stream",
     "text": [
      " is a progra\n"
     ]
    }
   ],
   "source": [
    "print(str1[6:18])"
   ]
  },
  {
   "cell_type": "markdown",
   "id": "3ce0db4f",
   "metadata": {},
   "source": [
    "# String Formating"
   ]
  },
  {
   "cell_type": "code",
   "execution_count": 33,
   "id": "f7ffe752",
   "metadata": {},
   "outputs": [
    {
     "name": "stdout",
     "output_type": "stream",
     "text": [
      "Print string in default order: \n",
      "Python Programming Language\n"
     ]
    }
   ],
   "source": [
    "# Three curly braces are placeholder\n",
    "String1 = \"{} {} {}\".format('Python', 'Programming', 'Language')\n",
    "print(\"Print string in default order: \")\n",
    "print(String1)"
   ]
  },
  {
   "cell_type": "markdown",
   "id": "f3b8396f",
   "metadata": {},
   "source": [
    "### String formating through indexes\n"
   ]
  },
  {
   "cell_type": "code",
   "execution_count": 35,
   "id": "4965e902",
   "metadata": {},
   "outputs": [
    {
     "name": "stdout",
     "output_type": "stream",
     "text": [
      "\n",
      "String in Positional order\n",
      "Programming Python Language\n"
     ]
    }
   ],
   "source": [
    "# Positional Formatting\n",
    "String1 = \"{1} {0} {2}\".format('Python', 'Programming', 'Language')\n",
    "print(\"\\nString in Positional order\")\n",
    "print(String1)"
   ]
  },
  {
   "cell_type": "code",
   "execution_count": 36,
   "id": "f55ffbda",
   "metadata": {},
   "outputs": [
    {
     "name": "stdout",
     "output_type": "stream",
     "text": [
      "\n",
      "Print string in order of keyword\n",
      "Python Programming Language\n"
     ]
    }
   ],
   "source": [
    "# Keyword Fromatting\n",
    "String1 = \"{a} {e} {c}\".format(a='Python', e='Programming', c='Language')\n",
    "print(\"\\nPrint string in order of keyword\")\n",
    "print(String1)"
   ]
  },
  {
   "cell_type": "code",
   "execution_count": 38,
   "id": "cbf3c0db",
   "metadata": {},
   "outputs": [
    {
     "name": "stdout",
     "output_type": "stream",
     "text": [
      "Saswat is the student of my class.\n",
      "Hello, My name is Abhishek and I'm 19 years old\n"
     ]
    }
   ],
   "source": [
    "# Program on f-string\n",
    "\n",
    "val = 'Saswat'\n",
    "print(f\"{val} is the student of my class.\")\n",
    "      \n",
    "name = 'Abhishek'\n",
    "age = 19\n",
    "print(f\"Hello, My name is {name} and I'm {age} years old\")"
   ]
  },
  {
   "cell_type": "markdown",
   "id": "8b360b46",
   "metadata": {},
   "source": [
    "# String Methods\n",
    "    1. upper()\n",
    "    2. lower()\n",
    "    3. title()\n",
    "    4. capitalize()\n",
    "    5. swapcase()\n",
    "    6. isalpha()\n",
    "    7. isdigit()\n",
    "    8. join()\n",
    "    9. strip()\n",
    "    10. split()"
   ]
  },
  {
   "cell_type": "code",
   "execution_count": 39,
   "id": "625cbae1",
   "metadata": {},
   "outputs": [],
   "source": [
    "s = \"I love my INDIA  \""
   ]
  },
  {
   "cell_type": "code",
   "execution_count": 41,
   "id": "1922f4d0",
   "metadata": {},
   "outputs": [
    {
     "name": "stdout",
     "output_type": "stream",
     "text": [
      "Actual String :  I love my INDIA  \n"
     ]
    }
   ],
   "source": [
    "print(\"Actual String : \",s)"
   ]
  },
  {
   "cell_type": "code",
   "execution_count": 42,
   "id": "c8832dbe",
   "metadata": {},
   "outputs": [
    {
     "name": "stdout",
     "output_type": "stream",
     "text": [
      "Length is :  17\n"
     ]
    }
   ],
   "source": [
    "print(\"Length is : \", len(s))"
   ]
  },
  {
   "cell_type": "code",
   "execution_count": 43,
   "id": "6354bf44",
   "metadata": {},
   "outputs": [],
   "source": [
    "s = s.strip()"
   ]
  },
  {
   "cell_type": "code",
   "execution_count": 44,
   "id": "d6d5848d",
   "metadata": {},
   "outputs": [
    {
     "name": "stdout",
     "output_type": "stream",
     "text": [
      "Stripped string :  I love my INDIA\n"
     ]
    }
   ],
   "source": [
    "print(\"Stripped string : \", s)"
   ]
  },
  {
   "cell_type": "code",
   "execution_count": 45,
   "id": "46a182a6",
   "metadata": {},
   "outputs": [
    {
     "name": "stdout",
     "output_type": "stream",
     "text": [
      "Length is :  15\n"
     ]
    }
   ],
   "source": [
    "print(\"Length is : \", len(s))"
   ]
  },
  {
   "cell_type": "code",
   "execution_count": 46,
   "id": "6b332580",
   "metadata": {},
   "outputs": [
    {
     "name": "stdout",
     "output_type": "stream",
     "text": [
      "Upper Case :  I LOVE MY INDIA\n"
     ]
    }
   ],
   "source": [
    "print(\"Upper Case : \", s.upper())"
   ]
  },
  {
   "cell_type": "code",
   "execution_count": 47,
   "id": "b2a2153c",
   "metadata": {},
   "outputs": [
    {
     "name": "stdout",
     "output_type": "stream",
     "text": [
      "Lower case :  i love my india\n"
     ]
    }
   ],
   "source": [
    "print(\"Lower case : \", s.lower())"
   ]
  },
  {
   "cell_type": "code",
   "execution_count": 49,
   "id": "eda9eca6",
   "metadata": {},
   "outputs": [
    {
     "name": "stdout",
     "output_type": "stream",
     "text": [
      "Title case :  I Love My India\n"
     ]
    }
   ],
   "source": [
    "print(\"Title case : \", s.title())"
   ]
  },
  {
   "cell_type": "code",
   "execution_count": 50,
   "id": "dce7461e",
   "metadata": {},
   "outputs": [
    {
     "name": "stdout",
     "output_type": "stream",
     "text": [
      "Capitalize case :  I love my india\n"
     ]
    }
   ],
   "source": [
    "print(\"Capitalize case : \", s.capitalize())"
   ]
  },
  {
   "cell_type": "code",
   "execution_count": 51,
   "id": "b0b380ee",
   "metadata": {},
   "outputs": [
    {
     "name": "stdout",
     "output_type": "stream",
     "text": [
      "['I', 'love', 'my', 'INDIA']\n"
     ]
    }
   ],
   "source": [
    "t = s.split()\n",
    "print(t)\n"
   ]
  },
  {
   "cell_type": "code",
   "execution_count": 55,
   "id": "c67ed1c7",
   "metadata": {},
   "outputs": [
    {
     "name": "stdout",
     "output_type": "stream",
     "text": [
      "I love my INDIA\n"
     ]
    }
   ],
   "source": [
    "k = \" \".join(t)\n",
    "print(k)"
   ]
  },
  {
   "cell_type": "markdown",
   "id": "ae0d9147",
   "metadata": {},
   "source": [
    "# Operators\n"
   ]
  },
  {
   "cell_type": "code",
   "execution_count": 57,
   "id": "990cc5aa",
   "metadata": {},
   "outputs": [
    {
     "name": "stdout",
     "output_type": "stream",
     "text": [
      "Addition :  8\n",
      "Subtraction :  2\n",
      "Multiply :  15\n",
      "Divide :  1.6666666666666667\n"
     ]
    }
   ],
   "source": [
    "# addition, subtraction, multiplication, division: +, -, *, %, / etc\n",
    "x = 5\n",
    "y = 3\n",
    "print(\"Addition : \",x+y)\n",
    "print(\"Subtraction : \",x-y)\n",
    "print(\"Multiply : \",x*y)\n",
    "print(\"Divide : \",x/y)"
   ]
  },
  {
   "cell_type": "markdown",
   "id": "6075c6e2",
   "metadata": {},
   "source": [
    "### Assignment Operator\n"
   ]
  },
  {
   "cell_type": "code",
   "execution_count": 58,
   "id": "137b8bf0",
   "metadata": {},
   "outputs": [
    {
     "name": "stdout",
     "output_type": "stream",
     "text": [
      "8\n"
     ]
    }
   ],
   "source": [
    "x = 5\n",
    "x += 3\n",
    "print(x)"
   ]
  },
  {
   "cell_type": "code",
   "execution_count": 59,
   "id": "5d9e2a58",
   "metadata": {},
   "outputs": [
    {
     "name": "stdout",
     "output_type": "stream",
     "text": [
      "15\n"
     ]
    }
   ],
   "source": [
    "x = 5\n",
    "x *= 3\n",
    "print(x)"
   ]
  },
  {
   "cell_type": "markdown",
   "id": "b9bcfece",
   "metadata": {},
   "source": [
    "### Comparison Operator"
   ]
  },
  {
   "cell_type": "code",
   "execution_count": 60,
   "id": "5f96819a",
   "metadata": {},
   "outputs": [
    {
     "name": "stdout",
     "output_type": "stream",
     "text": [
      "False\n"
     ]
    }
   ],
   "source": [
    "x = 5\n",
    "y = 3\n",
    "print(x == y)"
   ]
  },
  {
   "cell_type": "code",
   "execution_count": 61,
   "id": "64320fa4",
   "metadata": {},
   "outputs": [
    {
     "name": "stdout",
     "output_type": "stream",
     "text": [
      "True\n"
     ]
    }
   ],
   "source": [
    "x = 5\n",
    "y = 3\n",
    "print(x != y)"
   ]
  },
  {
   "cell_type": "markdown",
   "id": "e6c7d4cb",
   "metadata": {},
   "source": [
    "### Logical Operator\n"
   ]
  },
  {
   "cell_type": "code",
   "execution_count": 62,
   "id": "91176052",
   "metadata": {},
   "outputs": [
    {
     "name": "stdout",
     "output_type": "stream",
     "text": [
      "True\n"
     ]
    }
   ],
   "source": [
    "x = 5\n",
    "print(x > 3 and x < 10)"
   ]
  },
  {
   "cell_type": "code",
   "execution_count": 64,
   "id": "e54616a9",
   "metadata": {},
   "outputs": [
    {
     "name": "stdout",
     "output_type": "stream",
     "text": [
      "True\n"
     ]
    }
   ],
   "source": [
    "x = 5\n",
    "print(x > 3 or x < 4)"
   ]
  },
  {
   "cell_type": "markdown",
   "id": "1bf74bf8",
   "metadata": {},
   "source": [
    "# List\n",
    "Like array in C. But one difference is we can store different types of vaslue in it. The values can be change inside list unlike tuple\n",
    "\n",
    "*(For Repitation), +(For Concatination)"
   ]
  },
  {
   "cell_type": "code",
   "execution_count": 65,
   "id": "c2651b8f",
   "metadata": {},
   "outputs": [],
   "source": [
    "L = [1, 2, 3, \"abes\", 12.5]"
   ]
  },
  {
   "cell_type": "code",
   "execution_count": 66,
   "id": "b8414740",
   "metadata": {},
   "outputs": [
    {
     "data": {
      "text/plain": [
       "[1, 2, 3, 'abes', 12.5]"
      ]
     },
     "execution_count": 66,
     "metadata": {},
     "output_type": "execute_result"
    }
   ],
   "source": [
    "L\n"
   ]
  },
  {
   "cell_type": "code",
   "execution_count": 67,
   "id": "4bd2f090",
   "metadata": {},
   "outputs": [
    {
     "data": {
      "text/plain": [
       "[1, 2, 3]"
      ]
     },
     "execution_count": 67,
     "metadata": {},
     "output_type": "execute_result"
    }
   ],
   "source": [
    "L[0:3]"
   ]
  },
  {
   "cell_type": "code",
   "execution_count": 68,
   "id": "c5520726",
   "metadata": {},
   "outputs": [],
   "source": [
    "L[0] = 10"
   ]
  },
  {
   "cell_type": "code",
   "execution_count": 69,
   "id": "682bd5fb",
   "metadata": {},
   "outputs": [
    {
     "data": {
      "text/plain": [
       "[10, 2, 3, 'abes', 12.5]"
      ]
     },
     "execution_count": 69,
     "metadata": {},
     "output_type": "execute_result"
    }
   ],
   "source": [
    "L"
   ]
  },
  {
   "cell_type": "markdown",
   "id": "85b7cf54",
   "metadata": {},
   "source": [
    "### Split"
   ]
  },
  {
   "cell_type": "code",
   "execution_count": 70,
   "id": "17601b6d",
   "metadata": {},
   "outputs": [
    {
     "name": "stdout",
     "output_type": "stream",
     "text": [
      "Enter the sentence: I love my India\n",
      "['I', 'love', 'my', 'India']\n"
     ]
    }
   ],
   "source": [
    "# Write a program to take input a sentence and split it in list\n",
    "text = input(\"Enter the sentence: \")\n",
    "print(text.split())"
   ]
  },
  {
   "cell_type": "markdown",
   "id": "97d307b3",
   "metadata": {},
   "source": [
    "### Concatenation"
   ]
  },
  {
   "cell_type": "code",
   "execution_count": 74,
   "id": "6116f54b",
   "metadata": {},
   "outputs": [],
   "source": [
    "list1 = ['abcd', 786, 2.23, 'john', 70.2]\n",
    "small = [123, 'john']"
   ]
  },
  {
   "cell_type": "code",
   "execution_count": 75,
   "id": "ff5fef2a",
   "metadata": {},
   "outputs": [
    {
     "name": "stdout",
     "output_type": "stream",
     "text": [
      "[123, 'john', 123, 'john']\n"
     ]
    }
   ],
   "source": [
    "print(small * 2) # Print list two times"
   ]
  },
  {
   "cell_type": "code",
   "execution_count": 76,
   "id": "65832291",
   "metadata": {},
   "outputs": [
    {
     "name": "stdout",
     "output_type": "stream",
     "text": [
      "['abcd', 786, 2.23, 'john', 70.2, 123, 'john']\n"
     ]
    }
   ],
   "source": [
    "print(list1 + small) # Cocatenate the list"
   ]
  },
  {
   "cell_type": "markdown",
   "id": "3dc5ab7e",
   "metadata": {},
   "source": [
    "# Tuple\n",
    "\n",
    "It is a ummutable datatype(unchangable)"
   ]
  },
  {
   "cell_type": "code",
   "execution_count": 77,
   "id": "93e31c5d",
   "metadata": {},
   "outputs": [],
   "source": [
    "tuple1 = ('abcd', 786, 2.23, 'john', 70.2)\n",
    "tuple2 = (123, 'john')"
   ]
  },
  {
   "cell_type": "code",
   "execution_count": 79,
   "id": "7c4669c8",
   "metadata": {},
   "outputs": [
    {
     "name": "stdout",
     "output_type": "stream",
     "text": [
      "('abcd', 786, 2.23, 'john', 70.2)\n"
     ]
    }
   ],
   "source": [
    "print(tuple1)"
   ]
  },
  {
   "cell_type": "code",
   "execution_count": 80,
   "id": "14697dfc",
   "metadata": {},
   "outputs": [
    {
     "name": "stdout",
     "output_type": "stream",
     "text": [
      "abcd\n"
     ]
    }
   ],
   "source": [
    "print(tuple1[0])"
   ]
  },
  {
   "cell_type": "code",
   "execution_count": 81,
   "id": "c216cc51",
   "metadata": {},
   "outputs": [
    {
     "name": "stdout",
     "output_type": "stream",
     "text": [
      "(786, 2.23)\n"
     ]
    }
   ],
   "source": [
    "print(tuple1[1:3])  "
   ]
  },
  {
   "cell_type": "code",
   "execution_count": 82,
   "id": "5b9f33d7",
   "metadata": {},
   "outputs": [
    {
     "name": "stdout",
     "output_type": "stream",
     "text": [
      "(2.23, 'john', 70.2)\n"
     ]
    }
   ],
   "source": [
    "print(tuple1[2:]) "
   ]
  },
  {
   "cell_type": "code",
   "execution_count": 83,
   "id": "a8a3cb34",
   "metadata": {},
   "outputs": [
    {
     "name": "stdout",
     "output_type": "stream",
     "text": [
      "(123, 'john', 123, 'john')\n"
     ]
    }
   ],
   "source": [
    "print(tuple2 * 2)"
   ]
  },
  {
   "cell_type": "code",
   "execution_count": 84,
   "id": "41d680de",
   "metadata": {},
   "outputs": [
    {
     "name": "stdout",
     "output_type": "stream",
     "text": [
      "('abcd', 786, 2.23, 'john', 70.2, 123, 'john')\n"
     ]
    }
   ],
   "source": [
    "print(tuple1 + tuple2)"
   ]
  },
  {
   "cell_type": "code",
   "execution_count": 85,
   "id": "94f9d213",
   "metadata": {},
   "outputs": [],
   "source": [
    "tuple1 = ('pqrs', 123, 2.14, 'python', 98.6)\n",
    "list1 = ['pqrs', 123, 2.14, 'python', 98.6]\n"
   ]
  },
  {
   "cell_type": "code",
   "execution_count": 86,
   "id": "5456ae97",
   "metadata": {},
   "outputs": [
    {
     "ename": "TypeError",
     "evalue": "'tuple' object does not support item assignment",
     "output_type": "error",
     "traceback": [
      "\u001b[1;31m---------------------------------------------------------------------------\u001b[0m",
      "\u001b[1;31mTypeError\u001b[0m                                 Traceback (most recent call last)",
      "Input \u001b[1;32mIn [86]\u001b[0m, in \u001b[0;36m<cell line: 1>\u001b[1;34m()\u001b[0m\n\u001b[1;32m----> 1\u001b[0m tuple1[\u001b[38;5;241m2\u001b[39m] \u001b[38;5;241m=\u001b[39m \u001b[38;5;241m1000\u001b[39m     \u001b[38;5;66;03m# Invalid syntax with tuple\u001b[39;00m\n\u001b[0;32m      2\u001b[0m list1[\u001b[38;5;241m2\u001b[39m] \u001b[38;5;241m=\u001b[39m \u001b[38;5;241m1000\u001b[39m\n",
      "\u001b[1;31mTypeError\u001b[0m: 'tuple' object does not support item assignment"
     ]
    }
   ],
   "source": [
    "tuple1[2] = 1000     # Invalid syntax with tuple\n",
    "list1[2] = 1000      # Valid syntax with list"
   ]
  },
  {
   "cell_type": "markdown",
   "id": "551ce6f5",
   "metadata": {},
   "source": [
    "# Dictionary\n",
    "\n",
    "Like structure in C. It has key value pairs"
   ]
  },
  {
   "cell_type": "code",
   "execution_count": 87,
   "id": "f8d6feb6",
   "metadata": {},
   "outputs": [
    {
     "name": "stdout",
     "output_type": "stream",
     "text": [
      "{'one': 'This is a Python', 2: 'This is a Java'}\n"
     ]
    }
   ],
   "source": [
    "dict1 = {}\n",
    "dict1['one'] = \"This is a Python\"\n",
    "dict1[2] = \"This is a Java\"\n",
    "print(dict1)"
   ]
  },
  {
   "cell_type": "code",
   "execution_count": 88,
   "id": "63ec19e8",
   "metadata": {},
   "outputs": [],
   "source": [
    "dict2 = {'name': 'rohit', 'id': 1234, 'dept': 'technical'}"
   ]
  },
  {
   "cell_type": "code",
   "execution_count": 89,
   "id": "be0ad45c",
   "metadata": {},
   "outputs": [
    {
     "name": "stdout",
     "output_type": "stream",
     "text": [
      "{'name': 'rohit', 'id': 1234, 'dept': 'technical'}\n"
     ]
    }
   ],
   "source": [
    "print(dict2)"
   ]
  },
  {
   "cell_type": "code",
   "execution_count": 93,
   "id": "a9292ae5",
   "metadata": {},
   "outputs": [
    {
     "name": "stdout",
     "output_type": "stream",
     "text": [
      "This is a Python\n"
     ]
    }
   ],
   "source": [
    "print(dict1['one'])"
   ]
  },
  {
   "cell_type": "code",
   "execution_count": 94,
   "id": "a0e3aa9d",
   "metadata": {},
   "outputs": [
    {
     "name": "stdout",
     "output_type": "stream",
     "text": [
      "This is a Java\n"
     ]
    }
   ],
   "source": [
    "print(dict1[2])"
   ]
  },
  {
   "cell_type": "code",
   "execution_count": 90,
   "id": "d99954ec",
   "metadata": {},
   "outputs": [
    {
     "name": "stdout",
     "output_type": "stream",
     "text": [
      "dict_keys(['name', 'id', 'dept'])\n"
     ]
    }
   ],
   "source": [
    "print(dict2.keys())      # Print all keys"
   ]
  },
  {
   "cell_type": "code",
   "execution_count": 91,
   "id": "cdc5359a",
   "metadata": {},
   "outputs": [
    {
     "name": "stdout",
     "output_type": "stream",
     "text": [
      "dict_values(['rohit', 1234, 'technical'])\n"
     ]
    }
   ],
   "source": [
    "print(dict2.values())   # PRint all values"
   ]
  },
  {
   "cell_type": "markdown",
   "id": "f4743564",
   "metadata": {},
   "source": [
    "# Set\n",
    "\n",
    "It is a unordered collection of unique elements.\n",
    "\n",
    "It is unchangable also."
   ]
  },
  {
   "cell_type": "code",
   "execution_count": 95,
   "id": "91f14b30",
   "metadata": {},
   "outputs": [
    {
     "name": "stdout",
     "output_type": "stream",
     "text": [
      "{1, 2, 3, 4, 5}\n"
     ]
    }
   ],
   "source": [
    "set1 = {1, 2, 2, 3, 4, 4, 4, 1, 3, 5}\n",
    "print(set1)"
   ]
  },
  {
   "cell_type": "markdown",
   "id": "72a504fb",
   "metadata": {},
   "source": [
    "# Type casting"
   ]
  },
  {
   "cell_type": "code",
   "execution_count": 96,
   "id": "a36c5ec2",
   "metadata": {},
   "outputs": [
    {
     "name": "stdout",
     "output_type": "stream",
     "text": [
      "100.0\n",
      "<class 'int'>\n"
     ]
    }
   ],
   "source": [
    "# Integer\n",
    "n = 100\n",
    "\n",
    "# Float \n",
    "f = float(n)\n",
    "print(f)\n",
    "print(type(n))"
   ]
  },
  {
   "cell_type": "code",
   "execution_count": 99,
   "id": "e3ccffcd",
   "metadata": {},
   "outputs": [
    {
     "name": "stdout",
     "output_type": "stream",
     "text": [
      "100\n",
      "<class 'str'>\n"
     ]
    }
   ],
   "source": [
    "# String\n",
    "s = str(n)\n",
    "print(s)\n",
    "print(type(s))"
   ]
  },
  {
   "cell_type": "markdown",
   "id": "3fbeb9e5",
   "metadata": {},
   "source": [
    "# List - Indexing and slicing"
   ]
  },
  {
   "cell_type": "code",
   "execution_count": 100,
   "id": "ca111c17",
   "metadata": {},
   "outputs": [],
   "source": [
    "a = ['spam', 'egg', 'bacon', 'tomato', 'ham', 'lobster']"
   ]
  },
  {
   "cell_type": "code",
   "execution_count": 102,
   "id": "696ae77b",
   "metadata": {},
   "outputs": [
    {
     "name": "stdout",
     "output_type": "stream",
     "text": [
      "['bacon', 'tomato', 'ham']\n"
     ]
    }
   ],
   "source": [
    "print(a[2:5])"
   ]
  },
  {
   "cell_type": "markdown",
   "id": "a7a35aa9",
   "metadata": {},
   "source": [
    "### Negative Indexing\n"
   ]
  },
  {
   "cell_type": "code",
   "execution_count": 2,
   "id": "f61952b0",
   "metadata": {},
   "outputs": [
    {
     "name": "stdout",
     "output_type": "stream",
     "text": [
      "University\n",
      "10\n"
     ]
    }
   ],
   "source": [
    "name = 'University'\n",
    "\n",
    "print(name)\n",
    "print(len(name))"
   ]
  },
  {
   "cell_type": "code",
   "execution_count": 5,
   "id": "9f7d98f8",
   "metadata": {},
   "outputs": [
    {
     "name": "stdout",
     "output_type": "stream",
     "text": [
      "y\n",
      "y\n"
     ]
    }
   ],
   "source": [
    "print(name[9])\n",
    "print(name[-1])"
   ]
  },
  {
   "cell_type": "code",
   "execution_count": 8,
   "id": "6be791ff",
   "metadata": {},
   "outputs": [
    {
     "name": "stdout",
     "output_type": "stream",
     "text": [
      "v\n",
      "nive\n",
      "Univer\n",
      "rsity\n"
     ]
    }
   ],
   "source": [
    "# Positive Indexing\n",
    "\n",
    "print(name[3])\n",
    "print(name[1:5])\n",
    "print(name[:6])\n",
    "print(name[5:])"
   ]
  },
  {
   "cell_type": "code",
   "execution_count": 11,
   "id": "f75d8c0d",
   "metadata": {},
   "outputs": [
    {
     "name": "stdout",
     "output_type": "stream",
     "text": [
      "Universit\n",
      "University\n"
     ]
    }
   ],
   "source": [
    "# Negative Indexing\n",
    "\n",
    "print(name[-10:-1])\n",
    "print(name[-10:])"
   ]
  },
  {
   "cell_type": "code",
   "execution_count": 15,
   "id": "4270ee53",
   "metadata": {},
   "outputs": [
    {
     "name": "stdout",
     "output_type": "stream",
     "text": [
      "Enter your amount : 100000\n",
      "Enter no of years : 3\n",
      "Enter the interest rate : 12\n",
      "36000.0\n"
     ]
    }
   ],
   "source": [
    "# Problem 1: Python program to fiund out the simple interest\n",
    "\n",
    "Amount = input(\"Enter your amount : \")\n",
    "Years = input(\"Enter no of years : \")\n",
    "Interest = input(\"Enter the interest rate : \")\n",
    "simpleInterest = (int(Amount)*int(Years)*int(Interest))/100\n",
    "print(simpleInterest)"
   ]
  },
  {
   "cell_type": "code",
   "execution_count": 8,
   "id": "7f543d13",
   "metadata": {},
   "outputs": [
    {
     "name": "stdout",
     "output_type": "stream",
     "text": [
      "Enter your number: 56\n",
      "Not Prime\n"
     ]
    }
   ],
   "source": [
    "# Program 2: Python program to check wheather the input number is prime no or not\n",
    "\n",
    "n = int(input(\"Enter your number: \"))\n",
    "count = 0\n",
    "for i in range(2, n):\n",
    "    if(n%i==0):\n",
    "        count = count + 1\n",
    "        \n",
    "if count == 0:\n",
    "    print(\"Prime NUmber\")\n",
    "else:\n",
    "    print(\"Not Prime\")"
   ]
  },
  {
   "cell_type": "code",
   "execution_count": 5,
   "id": "2b42a9da",
   "metadata": {},
   "outputs": [
    {
     "name": "stdout",
     "output_type": "stream",
     "text": [
      "Enter your number: 5\n",
      "Factorial of 5 is 120\n"
     ]
    }
   ],
   "source": [
    "# Program 3: Python program to print factorial of the number\n",
    "\n",
    "n = int(input(\"Enter your number: \"))\n",
    "fact = 1\n",
    "for i in range(1, n+1):\n",
    "    fact = fact * i\n",
    "    \n",
    "print(\"Factorial of {} is {}\".format(n, fact))"
   ]
  }
 ],
 "metadata": {
  "kernelspec": {
   "display_name": "Python 3 (ipykernel)",
   "language": "python",
   "name": "python3"
  },
  "language_info": {
   "codemirror_mode": {
    "name": "ipython",
    "version": 3
   },
   "file_extension": ".py",
   "mimetype": "text/x-python",
   "name": "python",
   "nbconvert_exporter": "python",
   "pygments_lexer": "ipython3",
   "version": "3.9.12"
  }
 },
 "nbformat": 4,
 "nbformat_minor": 5
}
