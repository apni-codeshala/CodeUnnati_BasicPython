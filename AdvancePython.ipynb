{
 "cells": [
  {
   "cell_type": "markdown",
   "id": "7cbc2707",
   "metadata": {},
   "source": [
    "# if, elif, else statements\n"
   ]
  },
  {
   "cell_type": "code",
   "execution_count": 3,
   "id": "347db0dc",
   "metadata": {},
   "outputs": [
    {
     "name": "stdout",
     "output_type": "stream",
     "text": [
      "Yes! It was true\n"
     ]
    }
   ],
   "source": [
    "if True:\n",
    "    print(\"Yes! It was true\")"
   ]
  },
  {
   "cell_type": "code",
   "execution_count": 7,
   "id": "dc0e243c",
   "metadata": {},
   "outputs": [
    {
     "name": "stdout",
     "output_type": "stream",
     "text": [
      "I will be printed in any case where x is not true\n"
     ]
    }
   ],
   "source": [
    "x = False\n",
    "\n",
    "if x:\n",
    "    print(\"Yes! it was true\")\n",
    "else: \n",
    "    print(\"I will be printed in any case where {} is not true\" .format('x'))"
   ]
  },
  {
   "cell_type": "markdown",
   "id": "8842649f",
   "metadata": {},
   "source": [
    "### Mutiple Branches"
   ]
  },
  {
   "cell_type": "code",
   "execution_count": 10,
   "id": "d52b4ebc",
   "metadata": {},
   "outputs": [
    {
     "name": "stdout",
     "output_type": "stream",
     "text": [
      "Welcome to the Andhra Pradesh!\n"
     ]
    }
   ],
   "source": [
    "loc = 'Andhra Pradesh'\n",
    "if loc == 'Banglore':\n",
    "    print(\"Welcome to the Banglore!\")\n",
    "elif loc == 'Andhra Pradesh':\n",
    "    print(\"Welcome to the Andhra Pradesh!\")\n",
    "else:\n",
    "    print(\"Going somewhere else\")"
   ]
  },
  {
   "cell_type": "markdown",
   "id": "2846767a",
   "metadata": {},
   "source": [
    "# For Loop"
   ]
  },
  {
   "cell_type": "code",
   "execution_count": 11,
   "id": "41ab5d0d",
   "metadata": {},
   "outputs": [
    {
     "name": "stdout",
     "output_type": "stream",
     "text": [
      "num is 1\n",
      "num is 2\n",
      "num is 3\n",
      "num is 4\n",
      "num is 5\n",
      "num is 6\n",
      "num is 7\n",
      "num is 8\n",
      "num is 9\n",
      "num is 10\n"
     ]
    }
   ],
   "source": [
    "list1 = [1, 2, 3, 4, 5, 6, 7, 8, 9, 10]\n",
    "for num in list1:\n",
    "    print(\"{} is {}\".format('num', num))"
   ]
  },
  {
   "cell_type": "code",
   "execution_count": 14,
   "id": "7f4df546",
   "metadata": {},
   "outputs": [
    {
     "name": "stdout",
     "output_type": "stream",
     "text": [
      "2 is even\n",
      "4 is even\n",
      "6 is even\n",
      "8 is even\n",
      "10 is even\n"
     ]
    }
   ],
   "source": [
    "for num in list1:\n",
    "    if num % 2 == 0:\n",
    "        print(\"{} is {}\".format(num, 'even'))"
   ]
  },
  {
   "cell_type": "code",
   "execution_count": 16,
   "id": "e9808125",
   "metadata": {},
   "outputs": [
    {
     "name": "stdout",
     "output_type": "stream",
     "text": [
      "1 is Odd Number\n",
      "2\n",
      "3 is Odd Number\n",
      "4\n",
      "5 is Odd Number\n",
      "6\n",
      "7 is Odd Number\n",
      "8\n",
      "9 is Odd Number\n",
      "10\n"
     ]
    }
   ],
   "source": [
    "for num in list1:\n",
    "    if num % 2 == 0:\n",
    "        print(num)\n",
    "    else:\n",
    "        print('{} is Odd Number'.format(num))"
   ]
  },
  {
   "cell_type": "code",
   "execution_count": 18,
   "id": "7354b62e",
   "metadata": {},
   "outputs": [
    {
     "name": "stdout",
     "output_type": "stream",
     "text": [
      "55\n"
     ]
    }
   ],
   "source": [
    "list_sum = 0\n",
    "\n",
    "for num in list1:\n",
    "    list_sum = list_sum + num\n",
    "\n",
    "print(list_sum)"
   ]
  },
  {
   "cell_type": "code",
   "execution_count": 21,
   "id": "d36742a8",
   "metadata": {},
   "outputs": [
    {
     "name": "stdout",
     "output_type": "stream",
     "text": [
      "The count is :  0\n",
      "The count is :  1\n",
      "The count is :  2\n",
      "The count is :  3\n",
      "The count is :  4\n",
      "The count is :  5\n",
      "The count is :  6\n",
      "The count is :  7\n",
      "The count is :  8\n",
      "The count is :  9\n"
     ]
    }
   ],
   "source": [
    "for i in range(10):\n",
    "    print(\"The count is : \", i)"
   ]
  },
  {
   "cell_type": "code",
   "execution_count": 22,
   "id": "bbf9afc4",
   "metadata": {},
   "outputs": [
    {
     "name": "stdout",
     "output_type": "stream",
     "text": [
      "Current Letter :  p\n",
      "Current Letter :  y\n",
      "Current Letter :  t\n",
      "Current Letter :  h\n",
      "Current Letter :  o\n",
      "Current Letter :  n\n"
     ]
    }
   ],
   "source": [
    "for i in 'python':\n",
    "    print('Current Letter : ', i)"
   ]
  },
  {
   "cell_type": "code",
   "execution_count": 3,
   "id": "09cfaf24",
   "metadata": {},
   "outputs": [
    {
     "name": "stdout",
     "output_type": "stream",
     "text": [
      "Current fruit : banana\n",
      "Current fruit : apple\n",
      "Current fruit : mango\n"
     ]
    }
   ],
   "source": [
    "fruits = ['banana', 'apple', 'mango']\n",
    "for fruit in fruits:\n",
    "    print('Current fruit :', fruit)"
   ]
  },
  {
   "cell_type": "code",
   "execution_count": 10,
   "id": "2816f46b",
   "metadata": {},
   "outputs": [
    {
     "name": "stdout",
     "output_type": "stream",
     "text": [
      "10 equals 2 * 5\n",
      "11 is a prime number\n",
      "12 equals 2 * 6\n",
      "13 is a prime number\n",
      "14 equals 2 * 7\n",
      "15 is a prime number\n",
      "16 equals 2 * 8\n",
      "17 is a prime number\n",
      "18 equals 2 * 9\n",
      "19 is a prime number\n"
     ]
    }
   ],
   "source": [
    "for num in range(10, 20):\n",
    "    for i in range(2, num):\n",
    "        if num%i == 0:\n",
    "            j = num/i\n",
    "            print('%d equals %d * %d' % (num, i, j))\n",
    "            break\n",
    "        else:\n",
    "            print(num, 'is a prime number')\n",
    "            break"
   ]
  },
  {
   "cell_type": "markdown",
   "id": "a7d6d66e",
   "metadata": {},
   "source": [
    "# While Loop"
   ]
  },
  {
   "cell_type": "code",
   "execution_count": 4,
   "id": "082b91e4",
   "metadata": {},
   "outputs": [
    {
     "name": "stdout",
     "output_type": "stream",
     "text": [
      "The count is :  0\n",
      "The count is :  1\n",
      "The count is :  2\n",
      "The count is :  3\n",
      "The count is :  4\n",
      "The count is :  5\n",
      "The count is :  6\n",
      "The count is :  7\n",
      "The count is :  8\n",
      "Good Bye!\n"
     ]
    }
   ],
   "source": [
    "count = 0\n",
    "while(count<9):\n",
    "    print(\"The count is : \",count)\n",
    "    count = count + 1\n",
    "print(\"Good Bye!\")"
   ]
  },
  {
   "cell_type": "code",
   "execution_count": 13,
   "id": "f67b7423",
   "metadata": {},
   "outputs": [
    {
     "name": "stdout",
     "output_type": "stream",
     "text": [
      "x is crrently : 0\n",
      "x is stille less than 10, adding 1 to it\n",
      "x is crrently : 1\n",
      "x is stille less than 10, adding 1 to it\n",
      "x is crrently : 2\n",
      "x is stille less than 10, adding 1 to it\n",
      "x is crrently : 3\n",
      "x is stille less than 10, adding 1 to it\n",
      "x is crrently : 4\n",
      "x is stille less than 10, adding 1 to it\n",
      "x is crrently : 5\n",
      "x is stille less than 10, adding 1 to it\n",
      "x is crrently : 6\n",
      "x is stille less than 10, adding 1 to it\n",
      "x is crrently : 7\n",
      "x is stille less than 10, adding 1 to it\n",
      "x is crrently : 8\n",
      "x is stille less than 10, adding 1 to it\n",
      "x is crrently : 9\n",
      "x is stille less than 10, adding 1 to it\n",
      "Done\n"
     ]
    }
   ],
   "source": [
    "x = 0\n",
    "while x<10:\n",
    "    if x < 10:\n",
    "        print('x is crrently :',x)\n",
    "        print('x is stille less than 10, adding 1 to it')\n",
    "        x+=1\n",
    "print('Done')"
   ]
  },
  {
   "cell_type": "markdown",
   "id": "316642ed",
   "metadata": {},
   "source": [
    "## Some good examples"
   ]
  },
  {
   "cell_type": "code",
   "execution_count": 23,
   "id": "50a57ad3",
   "metadata": {},
   "outputs": [
    {
     "name": "stdout",
     "output_type": "stream",
     "text": [
      "['E', 'd', 'u', 'n', 'e', 't']\n"
     ]
    }
   ],
   "source": [
    "lst = [x for x in 'Edunet']\n",
    "print(lst)"
   ]
  },
  {
   "cell_type": "code",
   "execution_count": 19,
   "id": "e7990596",
   "metadata": {},
   "outputs": [
    {
     "name": "stdout",
     "output_type": "stream",
     "text": [
      "E\n",
      "d\n",
      "u\n",
      "n\n",
      "e\n",
      "t\n"
     ]
    }
   ],
   "source": [
    "for i in 'Edunet':\n",
    "    print(i)"
   ]
  },
  {
   "cell_type": "markdown",
   "id": "acfb84d5",
   "metadata": {},
   "source": [
    "# Range in Python"
   ]
  },
  {
   "cell_type": "markdown",
   "id": "2fe65f9a",
   "metadata": {},
   "source": [
    "for x in range(10):\n",
    "    print(x)"
   ]
  },
  {
   "cell_type": "code",
   "execution_count": 22,
   "id": "034b4b12",
   "metadata": {},
   "outputs": [
    {
     "name": "stdout",
     "output_type": "stream",
     "text": [
      "[0, 1, 4, 9, 16, 25, 36, 49, 64, 81, 100]\n"
     ]
    }
   ],
   "source": [
    "# Square numbers in range and turn into list\n",
    "sqr_lst = [x**2 for x in range(0, 11)]\n",
    "print(sqr_lst)"
   ]
  },
  {
   "cell_type": "code",
   "execution_count": 24,
   "id": "c6e4efce",
   "metadata": {},
   "outputs": [
    {
     "name": "stdout",
     "output_type": "stream",
     "text": [
      "1\n",
      "3\n",
      "5\n",
      "7\n"
     ]
    }
   ],
   "source": [
    "x = range(1, 9, 2)\n",
    "for n in x:\n",
    "    print(n)"
   ]
  },
  {
   "cell_type": "markdown",
   "id": "69dace40",
   "metadata": {},
   "source": [
    "# Pass Statement"
   ]
  },
  {
   "cell_type": "code",
   "execution_count": 2,
   "id": "253a82e6",
   "metadata": {},
   "outputs": [],
   "source": [
    "a = 33\n",
    "b = 200\n",
    "if b>a:\n",
    "    pass"
   ]
  },
  {
   "cell_type": "markdown",
   "id": "8388cebb",
   "metadata": {},
   "source": [
    "# Delete Statement"
   ]
  },
  {
   "cell_type": "code",
   "execution_count": 3,
   "id": "02307bdf",
   "metadata": {},
   "outputs": [
    {
     "name": "stdout",
     "output_type": "stream",
     "text": [
      "['Chemistry', 'Maths']\n"
     ]
    }
   ],
   "source": [
    "x = [\"Physics\", \"Chemistry\", \"Maths\"]\n",
    "del x[0]\n",
    "print(x)"
   ]
  },
  {
   "cell_type": "markdown",
   "id": "25bb94a8",
   "metadata": {},
   "source": [
    "# Return Statement"
   ]
  },
  {
   "cell_type": "code",
   "execution_count": 4,
   "id": "54a8b3e6",
   "metadata": {},
   "outputs": [
    {
     "name": "stdout",
     "output_type": "stream",
     "text": [
      "['Hello World', 10]\n"
     ]
    }
   ],
   "source": [
    "def fun():\n",
    "    str = 'Hello World'\n",
    "    x = 10\n",
    "    return [str, x];\n",
    "\n",
    "# Driver code to test above method \n",
    "list = fun()\n",
    "print(list)"
   ]
  },
  {
   "cell_type": "markdown",
   "id": "3b6b45bd",
   "metadata": {},
   "source": [
    "# Import Statement"
   ]
  },
  {
   "cell_type": "code",
   "execution_count": 5,
   "id": "d5ea8247",
   "metadata": {},
   "outputs": [
    {
     "name": "stdout",
     "output_type": "stream",
     "text": [
      "8.0\n"
     ]
    }
   ],
   "source": [
    "import math\n",
    "\n",
    "x = math.sqrt(64)\n",
    "print(x)"
   ]
  },
  {
   "cell_type": "markdown",
   "id": "5ca8c9d9",
   "metadata": {},
   "source": [
    "# Break Statement"
   ]
  },
  {
   "cell_type": "code",
   "execution_count": 6,
   "id": "e3307d89",
   "metadata": {},
   "outputs": [
    {
     "name": "stdout",
     "output_type": "stream",
     "text": [
      "1\n",
      "2\n",
      "3\n"
     ]
    }
   ],
   "source": [
    "i = 1\n",
    "while i < 9:\n",
    "    print(i)\n",
    "    if i == 3:\n",
    "        break\n",
    "    i += 1"
   ]
  },
  {
   "cell_type": "markdown",
   "id": "25c27653",
   "metadata": {},
   "source": [
    "# Continue Statement"
   ]
  },
  {
   "cell_type": "code",
   "execution_count": 8,
   "id": "03274e5f",
   "metadata": {},
   "outputs": [
    {
     "name": "stdout",
     "output_type": "stream",
     "text": [
      "1\n",
      "2\n",
      "4\n",
      "5\n",
      "6\n",
      "7\n",
      "8\n",
      "9\n",
      "10\n"
     ]
    }
   ],
   "source": [
    "i = 0\n",
    "while i < 10:\n",
    "    i += 1\n",
    "    if i == 3:\n",
    "        continue\n",
    "    print(i)"
   ]
  },
  {
   "cell_type": "markdown",
   "id": "a16a3def",
   "metadata": {},
   "source": [
    "# Function"
   ]
  },
  {
   "cell_type": "code",
   "execution_count": 12,
   "id": "e297b92b",
   "metadata": {},
   "outputs": [
    {
     "name": "stdout",
     "output_type": "stream",
     "text": [
      "Value is 10\n"
     ]
    }
   ],
   "source": [
    "def show(n):         # defining the function\n",
    "    print(\"Value is\",n)\n",
    "a = 10\n",
    "\n",
    "show(a)    # calling the function"
   ]
  },
  {
   "cell_type": "code",
   "execution_count": 14,
   "id": "22fd9aef",
   "metadata": {},
   "outputs": [
    {
     "name": "stdout",
     "output_type": "stream",
     "text": [
      "Hello Mr. Bermunda, Good MOrning!\n"
     ]
    }
   ],
   "source": [
    "def greetings(s):\n",
    "    print(f\"Hello Mr. {s}, Good MOrning!\")\n",
    "    \n",
    "greetings(\"Bermunda\")"
   ]
  },
  {
   "cell_type": "markdown",
   "id": "b49f6c89",
   "metadata": {},
   "source": [
    "### Local Value"
   ]
  },
  {
   "cell_type": "code",
   "execution_count": 16,
   "id": "af196733",
   "metadata": {},
   "outputs": [
    {
     "name": "stdout",
     "output_type": "stream",
     "text": [
      "Value of a inside function or local variable is : 10\n",
      "Value of a Outside Function : 20\n"
     ]
    }
   ],
   "source": [
    "# Example of local variable\n",
    "def test1():\n",
    "    a = 10      # Here a is a local variable\n",
    "    print(\"Value of a inside function or local variable is :\",a)\n",
    "    \n",
    "a = 20\n",
    "test1()\n",
    "print(\"Value of a Outside Function :\",a)"
   ]
  },
  {
   "cell_type": "markdown",
   "id": "78fe9eeb",
   "metadata": {},
   "source": [
    "### Global Variable"
   ]
  },
  {
   "cell_type": "code",
   "execution_count": 22,
   "id": "c5c435f6",
   "metadata": {},
   "outputs": [
    {
     "name": "stdout",
     "output_type": "stream",
     "text": [
      "Python is : awsome\n"
     ]
    }
   ],
   "source": [
    "# Example of global variable\n",
    "\n",
    "# Global variable as it is outside the scope of function\n",
    "x = 'awsome'\n",
    "\n",
    "# Scope starts\n",
    "def myFunc():\n",
    "    print(\"Python is :\",x)\n",
    "#Scope ended\n",
    "\n",
    "myFunc()"
   ]
  },
  {
   "cell_type": "markdown",
   "id": "e684a302",
   "metadata": {},
   "source": [
    "### Arguments in Python"
   ]
  },
  {
   "cell_type": "code",
   "execution_count": 23,
   "id": "711e572d",
   "metadata": {},
   "outputs": [
    {
     "name": "stdout",
     "output_type": "stream",
     "text": [
      "30\n"
     ]
    }
   ],
   "source": [
    "# Here a and b arethe parameter\n",
    "\n",
    "def sum(a, b):\n",
    "    return a+b\n",
    "\n",
    "res = sum(10, 20)\n",
    "print(res)"
   ]
  },
  {
   "cell_type": "markdown",
   "id": "f8cf3293",
   "metadata": {},
   "source": [
    "### Arbitrary arguments (*args)"
   ]
  },
  {
   "cell_type": "code",
   "execution_count": 27,
   "id": "6116dde2",
   "metadata": {},
   "outputs": [
    {
     "name": "stdout",
     "output_type": "stream",
     "text": [
      "The brilliant student is Pila\n",
      "('Bermunda', 'Binod', 'Pila')\n"
     ]
    }
   ],
   "source": [
    "def my_function(*Student):     # It will make the tuple of all the parameters\n",
    "    print(\"The brilliant student is\",Student[2])\n",
    "    print(Student)\n",
    "\n",
    "my_function(\"Bermunda\", \"Binod\", \"Susuwat\")"
   ]
  },
  {
   "cell_type": "markdown",
   "id": "3ce5dceb",
   "metadata": {},
   "source": [
    "### Keyword Argument (**Kwargs)"
   ]
  },
  {
   "cell_type": "code",
   "execution_count": 34,
   "id": "0a3c89b0",
   "metadata": {},
   "outputs": [
    {
     "name": "stdout",
     "output_type": "stream",
     "text": [
      "The brilliant student is Ravi Sharma\n",
      "{'fname': 'Ravi', 'lname': 'Sharma'}\n"
     ]
    }
   ],
   "source": [
    "def my_function(**Student):   # It will make the dictionary of parameters as key and arguments as value\n",
    "    print(\"The brilliant student is\", Student['fname'], Student['lname'])\n",
    "    print(Student)\n",
    "    \n",
    "my_function(fname = \"Ravi\", lname = \"Sharma\")"
   ]
  },
  {
   "cell_type": "markdown",
   "id": "fb38124a",
   "metadata": {},
   "source": [
    "### Lambda Function\n",
    "\n",
    "A lambda function is a small anonymous function.\n",
    "\n",
    "A lambda function can take any number of arguments, but can only have one expression."
   ]
  },
  {
   "cell_type": "code",
   "execution_count": 35,
   "id": "f4634417",
   "metadata": {},
   "outputs": [
    {
     "name": "stdout",
     "output_type": "stream",
     "text": [
      "15\n"
     ]
    }
   ],
   "source": [
    "x = lambda a: a + 10\n",
    "print(x(5))"
   ]
  },
  {
   "cell_type": "code",
   "execution_count": 36,
   "id": "d8b3cf74",
   "metadata": {},
   "outputs": [
    {
     "name": "stdout",
     "output_type": "stream",
     "text": [
      "15\n"
     ]
    }
   ],
   "source": [
    "x = lambda a, b: a+b\n",
    "print(x(5, 10))"
   ]
  },
  {
   "cell_type": "markdown",
   "id": "48cc8be5",
   "metadata": {},
   "source": [
    "# Libraries"
   ]
  },
  {
   "cell_type": "code",
   "execution_count": 37,
   "id": "918d3014",
   "metadata": {},
   "outputs": [
    {
     "name": "stdout",
     "output_type": "stream",
     "text": [
      "Requirement already satisfied: pandas in c:\\users\\sap\\anaconda3\\lib\\site-packages (1.4.2)\n",
      "Requirement already satisfied: python-dateutil>=2.8.1 in c:\\users\\sap\\anaconda3\\lib\\site-packages (from pandas) (2.8.2)\n",
      "Requirement already satisfied: numpy>=1.18.5 in c:\\users\\sap\\anaconda3\\lib\\site-packages (from pandas) (1.21.5)\n",
      "Requirement already satisfied: pytz>=2020.1 in c:\\users\\sap\\anaconda3\\lib\\site-packages (from pandas) (2021.3)\n",
      "Requirement already satisfied: six>=1.5 in c:\\users\\sap\\anaconda3\\lib\\site-packages (from python-dateutil>=2.8.1->pandas) (1.16.0)\n",
      "Note: you may need to restart the kernel to use updated packages.\n"
     ]
    }
   ],
   "source": [
    "pip install pandas"
   ]
  },
  {
   "cell_type": "markdown",
   "id": "febcd5a3",
   "metadata": {},
   "source": [
    "### Making our own library"
   ]
  },
  {
   "cell_type": "code",
   "execution_count": 1,
   "id": "0304f76d",
   "metadata": {},
   "outputs": [
    {
     "name": "stdout",
     "output_type": "stream",
     "text": [
      "Hello, Bremunda\n"
     ]
    }
   ],
   "source": [
    "import mygreetings\n",
    "mygreetings.greeting(\"Bremunda\")"
   ]
  },
  {
   "cell_type": "code",
   "execution_count": 3,
   "id": "1f0a8dcc",
   "metadata": {},
   "outputs": [
    {
     "data": {
      "text/plain": [
       "'Bermunda'"
      ]
     },
     "execution_count": 3,
     "metadata": {},
     "output_type": "execute_result"
    }
   ],
   "source": [
    "import info\n",
    "info.person1['name']"
   ]
  },
  {
   "cell_type": "markdown",
   "id": "7dbf59a0",
   "metadata": {},
   "source": [
    "### Platform library"
   ]
  },
  {
   "cell_type": "code",
   "execution_count": 9,
   "id": "0ae7b7d5",
   "metadata": {},
   "outputs": [
    {
     "name": "stdout",
     "output_type": "stream",
     "text": [
      "Windows\n"
     ]
    }
   ],
   "source": [
    "import platform\n",
    "\n",
    "x = platform.system()\n",
    "# func = dir(platform)\n",
    "print(x)\n",
    "# print(func)"
   ]
  },
  {
   "cell_type": "markdown",
   "id": "b53f31a9",
   "metadata": {},
   "source": [
    "### To see how many function inside math library using dir function"
   ]
  },
  {
   "cell_type": "code",
   "execution_count": 7,
   "id": "a8c25e44",
   "metadata": {},
   "outputs": [
    {
     "name": "stdout",
     "output_type": "stream",
     "text": [
      "['__doc__', '__loader__', '__name__', '__package__', '__spec__', 'acos', 'acosh', 'asin', 'asinh', 'atan', 'atan2', 'atanh', 'ceil', 'comb', 'copysign', 'cos', 'cosh', 'degrees', 'dist', 'e', 'erf', 'erfc', 'exp', 'expm1', 'fabs', 'factorial', 'floor', 'fmod', 'frexp', 'fsum', 'gamma', 'gcd', 'hypot', 'inf', 'isclose', 'isfinite', 'isinf', 'isnan', 'isqrt', 'lcm', 'ldexp', 'lgamma', 'log', 'log10', 'log1p', 'log2', 'modf', 'nan', 'nextafter', 'perm', 'pi', 'pow', 'prod', 'radians', 'remainder', 'sin', 'sinh', 'sqrt', 'tan', 'tanh', 'tau', 'trunc', 'ulp']\n"
     ]
    }
   ],
   "source": [
    "import math\n",
    "\n",
    "x = dir(math)\n",
    "print(x)"
   ]
  },
  {
   "cell_type": "markdown",
   "id": "63928081",
   "metadata": {},
   "source": [
    "# OOPs"
   ]
  },
  {
   "cell_type": "code",
   "execution_count": 13,
   "id": "a5f9e074",
   "metadata": {},
   "outputs": [
    {
     "name": "stdout",
     "output_type": "stream",
     "text": [
      "Toyota 2016\n"
     ]
    }
   ],
   "source": [
    "class car:\n",
    "    def __init__(self, modelname, year):\n",
    "        self.modelname = modelname\n",
    "        self.year = year\n",
    "    def display(self):\n",
    "        print(self.modelname, self.year)\n",
    "        \n",
    "c1 = car('Toyota', 2016)\n",
    "c1.display()"
   ]
  },
  {
   "cell_type": "code",
   "execution_count": 21,
   "id": "8812b9a8",
   "metadata": {},
   "outputs": [
    {
     "name": "stdout",
     "output_type": "stream",
     "text": [
      "Hello my name is John\n"
     ]
    }
   ],
   "source": [
    "class Person:\n",
    "    def __init__(mysillyobject, name, age):\n",
    "        mysillyobject.name = name\n",
    "        mysillyobject.age = age\n",
    "        \n",
    "    def myfunc(obj):\n",
    "        print(\"Hello my name is\", obj.name)\n",
    "        \n",
    "p1 = Person(\"John\", 36)\n",
    "p1.myfunc()"
   ]
  },
  {
   "cell_type": "markdown",
   "id": "8f9d6c48",
   "metadata": {},
   "source": [
    "### Single Inheritance"
   ]
  },
  {
   "cell_type": "code",
   "execution_count": 23,
   "id": "3af385bd",
   "metadata": {},
   "outputs": [
    {
     "name": "stdout",
     "output_type": "stream",
     "text": [
      "First Function\n",
      "Second function\n"
     ]
    }
   ],
   "source": [
    "class Parent():\n",
    "    def first(self):\n",
    "        print(\"First Function\")\n",
    "        \n",
    "class Child(Parent):\n",
    "    def second(self):\n",
    "        print(\"Second function\")\n",
    "        \n",
    "ob = Child()\n",
    "ob.first()\n",
    "ob.second()"
   ]
  },
  {
   "cell_type": "markdown",
   "id": "13479f4f",
   "metadata": {},
   "source": [
    "### Multiple Inheritance"
   ]
  },
  {
   "cell_type": "code",
   "execution_count": 24,
   "id": "e604f60d",
   "metadata": {},
   "outputs": [
    {
     "name": "stdout",
     "output_type": "stream",
     "text": [
      "Function one\n",
      "Function two\n",
      "Function three\n"
     ]
    }
   ],
   "source": [
    "class Parent():\n",
    "    def func1(self):\n",
    "        print('Function one')\n",
    "\n",
    "class Parent1:\n",
    "    def func2(self):\n",
    "        print('Function two')\n",
    "        \n",
    "class Parent2(Parent, Parent1):\n",
    "    def func3(self):\n",
    "        print(\"Function three\")\n",
    "        \n",
    "ob = Parent2()\n",
    "ob.func1()\n",
    "ob.func2()\n",
    "ob.func3()"
   ]
  },
  {
   "cell_type": "markdown",
   "id": "6edc16c2",
   "metadata": {},
   "source": [
    "# Exception Handling"
   ]
  },
  {
   "cell_type": "code",
   "execution_count": 3,
   "id": "c56acb33",
   "metadata": {},
   "outputs": [
    {
     "name": "stdout",
     "output_type": "stream",
     "text": [
      "Yeah! Your answer is : 1\n",
      "This is always executed\n",
      "Sorry! you are dividing by zero\n",
      "This is always executed\n"
     ]
    }
   ],
   "source": [
    "def divide(x, y):\n",
    "    try:\n",
    "        # Floor division: Gives only fraction\n",
    "        # Part as Number\n",
    "        result = x // y\n",
    "    except ZeroDivisionError:\n",
    "        print(\"Sorry! you are dividing by zero\")\n",
    "    else: \n",
    "        print(\"Yeah! Your answer is :\", result)\n",
    "    finally:\n",
    "        # this block is always executes regardless of exception generation \n",
    "        print(\"This is always executed\")\n",
    "        \n",
    "divide(3, 2)\n",
    "divide(3, 0)"
   ]
  },
  {
   "cell_type": "code",
   "execution_count": 4,
   "id": "2088b9f9",
   "metadata": {},
   "outputs": [
    {
     "ename": "IndexError",
     "evalue": "list index out of range",
     "output_type": "error",
     "traceback": [
      "\u001b[1;31m---------------------------------------------------------------------------\u001b[0m",
      "\u001b[1;31mIndexError\u001b[0m                                Traceback (most recent call last)",
      "Input \u001b[1;32mIn [4]\u001b[0m, in \u001b[0;36m<cell line: 3>\u001b[1;34m()\u001b[0m\n\u001b[0;32m      1\u001b[0m \u001b[38;5;66;03m# Example: INdexError\u001b[39;00m\n\u001b[0;32m      2\u001b[0m l1 \u001b[38;5;241m=\u001b[39m [\u001b[38;5;241m1\u001b[39m, \u001b[38;5;241m2\u001b[39m, \u001b[38;5;241m3\u001b[39m]\n\u001b[1;32m----> 3\u001b[0m \u001b[43ml1\u001b[49m\u001b[43m[\u001b[49m\u001b[38;5;241;43m3\u001b[39;49m\u001b[43m]\u001b[49m\n",
      "\u001b[1;31mIndexError\u001b[0m: list index out of range"
     ]
    }
   ],
   "source": [
    "# Example: IndexError\n",
    "l1 = [1, 2, 3]\n",
    "l1[3]"
   ]
  },
  {
   "cell_type": "code",
   "execution_count": 5,
   "id": "eff9e387",
   "metadata": {},
   "outputs": [
    {
     "ename": "ModuleNotFoundError",
     "evalue": "No module named 'notamodule'",
     "output_type": "error",
     "traceback": [
      "\u001b[1;31m---------------------------------------------------------------------------\u001b[0m",
      "\u001b[1;31mModuleNotFoundError\u001b[0m                       Traceback (most recent call last)",
      "Input \u001b[1;32mIn [5]\u001b[0m, in \u001b[0;36m<cell line: 2>\u001b[1;34m()\u001b[0m\n\u001b[0;32m      1\u001b[0m \u001b[38;5;66;03m# Example: ModuleNotFoundError\u001b[39;00m\n\u001b[1;32m----> 2\u001b[0m \u001b[38;5;28;01mimport\u001b[39;00m \u001b[38;5;21;01mnotamodule\u001b[39;00m\n",
      "\u001b[1;31mModuleNotFoundError\u001b[0m: No module named 'notamodule'"
     ]
    }
   ],
   "source": [
    "# Example: ModuleNotFoundError\n",
    "import notamodule"
   ]
  },
  {
   "cell_type": "markdown",
   "id": "989500e6",
   "metadata": {},
   "source": [
    "# Numpy Module"
   ]
  },
  {
   "cell_type": "markdown",
   "id": "67fc42b5",
   "metadata": {},
   "source": [
    "### Exercie 1: Create an Array"
   ]
  },
  {
   "cell_type": "code",
   "execution_count": 6,
   "id": "2d069d8b",
   "metadata": {},
   "outputs": [
    {
     "data": {
      "text/plain": [
       "[1, 2, 3]"
      ]
     },
     "execution_count": 6,
     "metadata": {},
     "output_type": "execute_result"
    }
   ],
   "source": [
    "import numpy as np\n",
    "\n",
    "my_list = [1, 2, 3]\n",
    "my_list"
   ]
  },
  {
   "cell_type": "code",
   "execution_count": 7,
   "id": "9e31d7f1",
   "metadata": {},
   "outputs": [
    {
     "data": {
      "text/plain": [
       "array([1, 2, 3])"
      ]
     },
     "execution_count": 7,
     "metadata": {},
     "output_type": "execute_result"
    }
   ],
   "source": [
    "np.array(my_list)"
   ]
  },
  {
   "cell_type": "code",
   "execution_count": 8,
   "id": "11c546a5",
   "metadata": {},
   "outputs": [
    {
     "data": {
      "text/plain": [
       "[[1, 2, 3], [4, 5, 6], [7, 8, 9]]"
      ]
     },
     "execution_count": 8,
     "metadata": {},
     "output_type": "execute_result"
    }
   ],
   "source": [
    "my_matrix = [[1, 2, 3], [4, 5, 6], [7, 8, 9]]\n",
    "my_matrix"
   ]
  },
  {
   "cell_type": "code",
   "execution_count": 9,
   "id": "80689c5c",
   "metadata": {},
   "outputs": [
    {
     "data": {
      "text/plain": [
       "array([[1, 2, 3],\n",
       "       [4, 5, 6],\n",
       "       [7, 8, 9]])"
      ]
     },
     "execution_count": 9,
     "metadata": {},
     "output_type": "execute_result"
    }
   ],
   "source": [
    "np.array(my_matrix)"
   ]
  },
  {
   "cell_type": "markdown",
   "id": "acbf611e",
   "metadata": {},
   "source": [
    "### Create 0-D Array"
   ]
  },
  {
   "cell_type": "code",
   "execution_count": 10,
   "id": "02030c4e",
   "metadata": {},
   "outputs": [
    {
     "name": "stdout",
     "output_type": "stream",
     "text": [
      "42\n"
     ]
    }
   ],
   "source": [
    "import numpy as np\n",
    "arr = np.array(42)\n",
    "print(arr)"
   ]
  },
  {
   "cell_type": "markdown",
   "id": "86612b7e",
   "metadata": {},
   "source": [
    "### Create 1-D Array"
   ]
  },
  {
   "cell_type": "code",
   "execution_count": 11,
   "id": "0855de02",
   "metadata": {},
   "outputs": [
    {
     "name": "stdout",
     "output_type": "stream",
     "text": [
      "[1 2 3 4 5]\n"
     ]
    }
   ],
   "source": [
    "import numpy as np\n",
    "arr = np.array([1, 2, 3, 4, 5])\n",
    "print(arr)"
   ]
  },
  {
   "cell_type": "markdown",
   "id": "b0a6e3ec",
   "metadata": {},
   "source": [
    "### Create 2-D Array"
   ]
  },
  {
   "cell_type": "code",
   "execution_count": 12,
   "id": "d831e1ce",
   "metadata": {},
   "outputs": [
    {
     "name": "stdout",
     "output_type": "stream",
     "text": [
      "[[1 2 3]\n",
      " [4 5 6]]\n"
     ]
    }
   ],
   "source": [
    "import numpy as np\n",
    "arr = np.array([[1, 2, 3], [4, 5, 6]])\n",
    "print(arr)"
   ]
  },
  {
   "cell_type": "markdown",
   "id": "15837d54",
   "metadata": {},
   "source": [
    "### Create 3-D Array"
   ]
  },
  {
   "cell_type": "code",
   "execution_count": 14,
   "id": "77e3d45a",
   "metadata": {},
   "outputs": [
    {
     "name": "stdout",
     "output_type": "stream",
     "text": [
      "Create 3-D Array :\n",
      "[[[ 2 17]\n",
      "  [45 78]]\n",
      "\n",
      " [[88 92]\n",
      "  [60 76]]\n",
      "\n",
      " [[76 33]\n",
      "  [20 18]]]\n"
     ]
    }
   ],
   "source": [
    "import numpy as np\n",
    "arr1 = np.array([[[2, 17], [45, 78]], [[88, 92], [60, 76]], [[76, 33], [20, 18]]])\n",
    "print(\"Create 3-D Array :\",arr1, sep='\\n')"
   ]
  },
  {
   "cell_type": "markdown",
   "id": "95051edc",
   "metadata": {},
   "source": [
    "# Exercie 2 - Perform I/O with NumPy"
   ]
  },
  {
   "cell_type": "markdown",
   "id": "65006fc3",
   "metadata": {},
   "source": [
    "### numpy.save()"
   ]
  },
  {
   "cell_type": "code",
   "execution_count": 15,
   "id": "767eaede",
   "metadata": {},
   "outputs": [],
   "source": [
    "import numpy as np\n",
    "a = np.array([1, 2, 3, 4, 5])\n",
    "np.save('outfile', a)"
   ]
  },
  {
   "cell_type": "code",
   "execution_count": 16,
   "id": "9987d637",
   "metadata": {},
   "outputs": [
    {
     "name": "stdout",
     "output_type": "stream",
     "text": [
      "[1 2 3 4 5]\n"
     ]
    }
   ],
   "source": [
    "import numpy as np\n",
    "b = np.load('outfile.npy')\n",
    "print(b)"
   ]
  },
  {
   "cell_type": "markdown",
   "id": "b53b7472",
   "metadata": {},
   "source": [
    "### savetxt()"
   ]
  },
  {
   "cell_type": "code",
   "execution_count": 17,
   "id": "125f676d",
   "metadata": {},
   "outputs": [
    {
     "name": "stdout",
     "output_type": "stream",
     "text": [
      "[1. 2. 3. 4. 5.]\n"
     ]
    }
   ],
   "source": [
    "import numpy as np\n",
    "a = np.array([1, 2, 3, 4, 5])\n",
    "np.savetxt('out.txt', a)\n",
    "b = np.loadtxt('out.txt')\n",
    "print(b)"
   ]
  },
  {
   "cell_type": "code",
   "execution_count": 21,
   "id": "cca6fe77",
   "metadata": {},
   "outputs": [],
   "source": [
    "# Problem 1: Create a numpy array containing the numbers from 1 to 10\n",
    "import numpy as np\n",
    "x = np.array(list(range(1, 11)))"
   ]
  },
  {
   "cell_type": "code",
   "execution_count": 22,
   "id": "d2ae719f",
   "metadata": {},
   "outputs": [
    {
     "name": "stdout",
     "output_type": "stream",
     "text": [
      "[ 3  6  9 12 15 18 21 24 27 30]\n"
     ]
    }
   ],
   "source": [
    "print(x*3)"
   ]
  },
  {
   "cell_type": "markdown",
   "id": "08d78395",
   "metadata": {},
   "source": [
    "# Indexing in NumPy"
   ]
  },
  {
   "cell_type": "code",
   "execution_count": 29,
   "id": "f0133e12",
   "metadata": {},
   "outputs": [
    {
     "name": "stdout",
     "output_type": "stream",
     "text": [
      "Elements of array : [1 3 5 7 9]\n",
      "Indexed elements of array arr : [9 1 5 9 7]\n"
     ]
    }
   ],
   "source": [
    "import numpy as np\n",
    "arr = np.arange(1, 10, 2)\n",
    "print(\"Elements of array :\",arr)\n",
    "# inserting in arr1 by giving index position of arr\n",
    "arr1 = arr[np.array([4, 0, 2, -1, -2])]\n",
    "print(\"Indexed elements of array arr :\",arr1)"
   ]
  },
  {
   "cell_type": "markdown",
   "id": "6a731cdf",
   "metadata": {},
   "source": [
    "### Indexing in 1 dimension"
   ]
  },
  {
   "cell_type": "code",
   "execution_count": 32,
   "id": "0effa186",
   "metadata": {},
   "outputs": [
    {
     "name": "stdout",
     "output_type": "stream",
     "text": [
      "Array arr1 : [0 1 2 3]\n",
      "0\n",
      "1\n"
     ]
    }
   ],
   "source": [
    "import numpy as np\n",
    "array1 = np.arange(4)\n",
    "print(\"Array arr1 :\", array1)\n",
    "print(array1[0])\n",
    "print(array1[1])"
   ]
  },
  {
   "cell_type": "markdown",
   "id": "93ac192e",
   "metadata": {},
   "source": [
    "### Indexing in 2 dimension"
   ]
  },
  {
   "cell_type": "code",
   "execution_count": 33,
   "id": "e2759d6d",
   "metadata": {},
   "outputs": [
    {
     "name": "stdout",
     "output_type": "stream",
     "text": [
      "Array arr1 :\n",
      " [[ 0  1  2  3]\n",
      " [ 4  5  6  7]\n",
      " [ 8  9 10 11]]\n",
      "0\n",
      "6\n"
     ]
    }
   ],
   "source": [
    "import numpy as np\n",
    "arr = np.arange(12)\n",
    "arr1 = arr.reshape(3, 4)\n",
    "print(\"Array arr1 :\\n\", arr1)\n",
    "print(arr1[0, 0])\n",
    "print(arr1[1, 2])"
   ]
  },
  {
   "cell_type": "markdown",
   "id": "5b8f8cf5",
   "metadata": {},
   "source": [
    "### Indexing in 3 Dimension"
   ]
  },
  {
   "cell_type": "code",
   "execution_count": 34,
   "id": "b3ac5620",
   "metadata": {},
   "outputs": [
    {
     "name": "stdout",
     "output_type": "stream",
     "text": [
      "Array arr1: \n",
      " [[[ 0  1  2]\n",
      "  [ 3  4  5]]\n",
      "\n",
      " [[ 6  7  8]\n",
      "  [ 9 10 11]]]\n",
      "Element 8\n"
     ]
    }
   ],
   "source": [
    "import numpy as np\n",
    "arr = np.arange(12)\n",
    "arr1 = arr.reshape(2, 2, 3)\n",
    "print(\"Array arr1: \\n\", arr1)\n",
    "print(\"Element\", arr1[1, 0, 2])"
   ]
  },
  {
   "cell_type": "markdown",
   "id": "f03d7b21",
   "metadata": {},
   "source": [
    "# Problem 2 - Slicing an array"
   ]
  },
  {
   "cell_type": "markdown",
   "id": "b3b5b473",
   "metadata": {},
   "source": [
    "### Slicing 1D NumPy array"
   ]
  },
  {
   "cell_type": "code",
   "execution_count": 35,
   "id": "5e38978f",
   "metadata": {},
   "outputs": [
    {
     "name": "stdout",
     "output_type": "stream",
     "text": [
      "Array arr : [0 1 2 3 4 5]\n",
      "Sliced element of array : [1 2 3 4]\n"
     ]
    }
   ],
   "source": [
    "import numpy as np\n",
    "arr = np.arange(6)\n",
    "print(\"Array arr :\", arr)\n",
    "print(\"Sliced element of array :\", arr[1:5])"
   ]
  },
  {
   "cell_type": "markdown",
   "id": "1a5a3795",
   "metadata": {},
   "source": [
    "### Slicing 2D NumPy array"
   ]
  },
  {
   "cell_type": "code",
   "execution_count": 38,
   "id": "b3413b33",
   "metadata": {},
   "outputs": [
    {
     "name": "stdout",
     "output_type": "stream",
     "text": [
      "Array arr1: \n",
      " [[ 0  1  2  3]\n",
      " [ 4  5  6  7]\n",
      " [ 8  9 10 11]]\n",
      "\n",
      "\n",
      "Element of !st row and !st column upto last column \n",
      " [[ 5  6  7]\n",
      " [ 9 10 11]]\n"
     ]
    }
   ],
   "source": [
    "import numpy as np\n",
    "arr = np.arange(12)\n",
    "arr1 = arr.reshape(3, 4)\n",
    "print(\"Array arr1: \\n\", arr1)\n",
    "print('\\n')\n",
    "print(\"Element of 1st row and 1st column upto last column \\n\", arr1[1:,1:4])"
   ]
  },
  {
   "cell_type": "markdown",
   "id": "12d3f29b",
   "metadata": {},
   "source": [
    "# NumPy broadcasting "
   ]
  },
  {
   "cell_type": "code",
   "execution_count": 39,
   "id": "d1ee8a1a",
   "metadata": {},
   "outputs": [
    {
     "name": "stdout",
     "output_type": "stream",
     "text": [
      "Original Array :\n",
      "[[1 2 3]\n",
      " [4 5 6]\n",
      " [7 8 9]]\n",
      "\n",
      "Resultant after braodcastinng :\n",
      "[[11 12 13]\n",
      " [14 15 16]\n",
      " [17 18 19]]\n"
     ]
    }
   ],
   "source": [
    "import numpy as np\n",
    "\n",
    "# Create a 3x3 matrix\n",
    "arr = np.array([[1, 2, 3],\n",
    "               [4, 5, 6],\n",
    "               [7, 8, 9]])\n",
    "\n",
    "# Add a scalar to array\n",
    "scalar = 10\n",
    "result = arr + scalar\n",
    "\n",
    "print(\"Original Array :\")\n",
    "print(arr)\n",
    "print(\"\\nResultant after braodcastinng :\")\n",
    "print(result)"
   ]
  },
  {
   "cell_type": "code",
   "execution_count": 53,
   "id": "8f2cff3a",
   "metadata": {},
   "outputs": [
    {
     "name": "stdout",
     "output_type": "stream",
     "text": [
      "3\n",
      "9\n",
      "8\n"
     ]
    }
   ],
   "source": [
    "# Problem : Array creating and indexing \n",
    "\n",
    "import numpy as np\n",
    "\n",
    "# Creating a array number containing from 0 to 9\n",
    "arr = np.arange(10)\n",
    "\n",
    "# Print the elements at index 3\n",
    "print(arr[3])\n",
    "\n",
    "# Print the last element of the array\n",
    "print(arr[len(arr) - 1])\n",
    "\n",
    "# Create a 2D array with shape (3, 3) containing consecutive number from 1\n",
    "arr1 = np.arange(1, 10).reshape(3,3)\n",
    "\n",
    "# Print element at row 2 and column 1\n",
    "print(arr1[2, 1])"
   ]
  },
  {
   "cell_type": "code",
   "execution_count": 65,
   "id": "c8ee9333",
   "metadata": {},
   "outputs": [
    {
     "name": "stdout",
     "output_type": "stream",
     "text": [
      "[ 1  2  3  4  5  6  7  8  9 10]\n",
      "[2 3 4 5 6]\n",
      "[ 4  6  8 10 12]\n",
      "[[ 1  2  3  4]\n",
      " [ 5  6  7  8]\n",
      " [ 9 10 11 12]]\n",
      "[[1 2]\n",
      " [5 6]]\n"
     ]
    }
   ],
   "source": [
    "# Problem : Slicing and broadcasting\n",
    "\n",
    "import numpy as np\n",
    "\n",
    "# Array containing the numberfrom 1 to 10\n",
    "arr = np.arange(1, 11)\n",
    "print(arr)\n",
    "\n",
    "# Using slicing extract element from index 2 to 6\n",
    "arr1 = arr[1:6]\n",
    "print(arr1)\n",
    "\n",
    "# Multiply subarray by 2 using broadcating\n",
    "multip_arr = arr1 * 2\n",
    "print(multip_arr)\n",
    "\n",
    "# Create 2D array with shape(4, 3) containing consecutive number fron 1\n",
    "arr2 = np.arange(1, 13).reshape(3, 4)\n",
    "print(arr2)\n",
    "\n",
    "# Print all the elements of last 2 column of last 2 rows \n",
    "print(arr2[:2,:2])"
   ]
  },
  {
   "cell_type": "markdown",
   "id": "f7d3f0db",
   "metadata": {},
   "source": [
    "# Structured array in NumPy"
   ]
  },
  {
   "cell_type": "code",
   "execution_count": 69,
   "id": "e4345f74",
   "metadata": {},
   "outputs": [
    {
     "name": "stdout",
     "output_type": "stream",
     "text": [
      "[('Sana', 2, 21.) ('Mansi', 7, 29.)]\n"
     ]
    }
   ],
   "source": [
    "# Structure array\n",
    "import numpy as np\n",
    "a = np.array([('Sana', 2, 21.0), ('Mansi', 7, 29.0)], dtype=[('name', (np.str_, 10)), ('age', np.int32), ('weight', np.float64)])\n",
    "print(a)"
   ]
  },
  {
   "cell_type": "code",
   "execution_count": 72,
   "id": "232fbb86",
   "metadata": {},
   "outputs": [
    {
     "name": "stdout",
     "output_type": "stream",
     "text": [
      "[('Raj Sharma', 28, 70000, 'Python Developer')\n",
      " ('Kanchan Kashyap', 25, 60000, 'Digital Marketer')\n",
      " ('Mukul Sinha', 26, 52500, 'Software Engineer')]\n"
     ]
    }
   ],
   "source": [
    "import numpy as np\n",
    "\n",
    "# Calling dtype() constructor and filling it with desired tuples\n",
    "t= np.dtype([('empname', 'U40'),\n",
    "             ('age', 'u1'),\n",
    "             ('salary', 'u4'),\n",
    "             ('designation', 'U30')])\n",
    "\n",
    "# Creating a structured array using our dtype:\n",
    "arr = np.array([('Raj Sharma', 28, 70000, 'Python Developer'),\n",
    "                ('Kanchan Kashyap', 25, 60000, 'Digital Marketer'),\n",
    "                ('Mukul Sinha', 26, 52500, 'Software Engineer')], dtype = t)\n",
    "\n",
    "print(arr)"
   ]
  },
  {
   "cell_type": "markdown",
   "id": "dfd81aa0",
   "metadata": {},
   "source": [
    "# Performing Statistical function in NumPy"
   ]
  },
  {
   "cell_type": "code",
   "execution_count": 73,
   "id": "f5a740af",
   "metadata": {},
   "outputs": [
    {
     "name": "stdout",
     "output_type": "stream",
     "text": [
      "Mean : 30.0\n"
     ]
    }
   ],
   "source": [
    "# Mean\n",
    "import numpy as np\n",
    "\n",
    "data = np.array([10, 20, 30, 40, 50])\n",
    "mean = np.mean(data)\n",
    "print(\"Mean :\",mean)"
   ]
  },
  {
   "cell_type": "code",
   "execution_count": 75,
   "id": "92b943cb",
   "metadata": {},
   "outputs": [
    {
     "name": "stdout",
     "output_type": "stream",
     "text": [
      "Median : 30.0\n"
     ]
    }
   ],
   "source": [
    "# Median\n",
    "import numpy as np\n",
    "\n",
    "data = np.array([10, 20, 30, 40, 50])\n",
    "median = np.median(data)\n",
    "print(\"Median :\",median)"
   ]
  },
  {
   "cell_type": "code",
   "execution_count": 76,
   "id": "6378c228",
   "metadata": {},
   "outputs": [
    {
     "name": "stdout",
     "output_type": "stream",
     "text": [
      "Standard Deviation : 14.142135623730951\n"
     ]
    }
   ],
   "source": [
    "# Standard Deviation\n",
    "import numpy as np\n",
    "\n",
    "data = np.array([10, 20, 30, 40, 50])\n",
    "std_dev = np.std(data)\n",
    "print(\"Standard Deviation :\",std_dev)"
   ]
  },
  {
   "cell_type": "code",
   "execution_count": 77,
   "id": "730fbebf",
   "metadata": {},
   "outputs": [
    {
     "name": "stdout",
     "output_type": "stream",
     "text": [
      "Variance : 200.0\n"
     ]
    }
   ],
   "source": [
    "# Variance\n",
    "import numpy as np\n",
    "\n",
    "data = np.array([10, 20 ,30 , 40, 50])\n",
    "variance = np.var(data)\n",
    "print(\"Variance :\", variance)"
   ]
  },
  {
   "cell_type": "code",
   "execution_count": 79,
   "id": "301a64cd",
   "metadata": {},
   "outputs": [
    {
     "name": "stdout",
     "output_type": "stream",
     "text": [
      "75th Percentile : 40.0\n"
     ]
    }
   ],
   "source": [
    "# Percentile\n",
    "import numpy as np\n",
    "\n",
    "data = np.array([10, 20, 30, 40, 50])\n",
    "percentile_75 = np.percentile(data, 75)\n",
    "print(\"75th Percentile :\", percentile_75)"
   ]
  },
  {
   "cell_type": "code",
   "execution_count": 80,
   "id": "f4b4e866",
   "metadata": {},
   "outputs": [
    {
     "name": "stdout",
     "output_type": "stream",
     "text": [
      "Array : [10 20 30 40 50]\n",
      "Minimum Value : 10\n"
     ]
    }
   ],
   "source": [
    "# Minimum\n",
    "import numpy as np\n",
    "\n",
    "data = np.array([10, 20, 30, 40, 50])\n",
    "minimum = np.min(data)\n",
    "\n",
    "print(\"Array :\", data)\n",
    "print(\"Minimum Value :\", minimum)"
   ]
  },
  {
   "cell_type": "code",
   "execution_count": 83,
   "id": "26a5f0df",
   "metadata": {},
   "outputs": [
    {
     "name": "stdout",
     "output_type": "stream",
     "text": [
      "Matrix :\n",
      "[[10  5  8]\n",
      " [15  7 12]\n",
      " [20 25 18]]\n",
      "Minimum along colums : [10  5  8]\n",
      "Minimuin along rows : [ 5  7 18]\n"
     ]
    }
   ],
   "source": [
    "import numpy as np\n",
    "\n",
    "matrix = np.array([[10, 5, 8],\n",
    "                 [15, 7, 12],\n",
    "                 [20, 25, 18]])\n",
    "\n",
    "minimum_along_columns = np.amin(matrix, axis=0)\n",
    "minimum_along_rows = np.amin(matrix, axis=1)\n",
    "print(\"Matrix :\")\n",
    "print(matrix)\n",
    "print(\"Minimum along colums :\", minimum_along_columns)\n",
    "print(\"Minimuin along rows :\", minimum_along_rows)"
   ]
  }
 ],
 "metadata": {
  "kernelspec": {
   "display_name": "Python 3 (ipykernel)",
   "language": "python",
   "name": "python3"
  },
  "language_info": {
   "codemirror_mode": {
    "name": "ipython",
    "version": 3
   },
   "file_extension": ".py",
   "mimetype": "text/x-python",
   "name": "python",
   "nbconvert_exporter": "python",
   "pygments_lexer": "ipython3",
   "version": "3.9.12"
  }
 },
 "nbformat": 4,
 "nbformat_minor": 5
}
