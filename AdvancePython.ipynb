{
 "cells": [
  {
   "cell_type": "markdown",
   "id": "7cbc2707",
   "metadata": {},
   "source": [
    "# if, elif, else statements\n"
   ]
  },
  {
   "cell_type": "code",
   "execution_count": 3,
   "id": "347db0dc",
   "metadata": {},
   "outputs": [
    {
     "name": "stdout",
     "output_type": "stream",
     "text": [
      "Yes! It was true\n"
     ]
    }
   ],
   "source": [
    "if True:\n",
    "    print(\"Yes! It was true\")"
   ]
  },
  {
   "cell_type": "code",
   "execution_count": 7,
   "id": "dc0e243c",
   "metadata": {},
   "outputs": [
    {
     "name": "stdout",
     "output_type": "stream",
     "text": [
      "I will be printed in any case where x is not true\n"
     ]
    }
   ],
   "source": [
    "x = False\n",
    "\n",
    "if x:\n",
    "    print(\"Yes! it was true\")\n",
    "else: \n",
    "    print(\"I will be printed in any case where {} is not true\" .format('x'))"
   ]
  },
  {
   "cell_type": "markdown",
   "id": "8842649f",
   "metadata": {},
   "source": [
    "### Mutiple Branches"
   ]
  },
  {
   "cell_type": "code",
   "execution_count": 10,
   "id": "d52b4ebc",
   "metadata": {},
   "outputs": [
    {
     "name": "stdout",
     "output_type": "stream",
     "text": [
      "Welcome to the Andhra Pradesh!\n"
     ]
    }
   ],
   "source": [
    "loc = 'Andhra Pradesh'\n",
    "if loc == 'Banglore':\n",
    "    print(\"Welcome to the Banglore!\")\n",
    "elif loc == 'Andhra Pradesh':\n",
    "    print(\"Welcome to the Andhra Pradesh!\")\n",
    "else:\n",
    "    print(\"Going somewhere else\")"
   ]
  },
  {
   "cell_type": "markdown",
   "id": "2846767a",
   "metadata": {},
   "source": [
    "# For Loop"
   ]
  },
  {
   "cell_type": "code",
   "execution_count": 11,
   "id": "41ab5d0d",
   "metadata": {},
   "outputs": [
    {
     "name": "stdout",
     "output_type": "stream",
     "text": [
      "num is 1\n",
      "num is 2\n",
      "num is 3\n",
      "num is 4\n",
      "num is 5\n",
      "num is 6\n",
      "num is 7\n",
      "num is 8\n",
      "num is 9\n",
      "num is 10\n"
     ]
    }
   ],
   "source": [
    "list1 = [1, 2, 3, 4, 5, 6, 7, 8, 9, 10]\n",
    "for num in list1:\n",
    "    print(\"{} is {}\".format('num', num))"
   ]
  },
  {
   "cell_type": "code",
   "execution_count": 14,
   "id": "7f4df546",
   "metadata": {},
   "outputs": [
    {
     "name": "stdout",
     "output_type": "stream",
     "text": [
      "2 is even\n",
      "4 is even\n",
      "6 is even\n",
      "8 is even\n",
      "10 is even\n"
     ]
    }
   ],
   "source": [
    "for num in list1:\n",
    "    if num % 2 == 0:\n",
    "        print(\"{} is {}\".format(num, 'even'))"
   ]
  },
  {
   "cell_type": "code",
   "execution_count": 16,
   "id": "e9808125",
   "metadata": {},
   "outputs": [
    {
     "name": "stdout",
     "output_type": "stream",
     "text": [
      "1 is Odd Number\n",
      "2\n",
      "3 is Odd Number\n",
      "4\n",
      "5 is Odd Number\n",
      "6\n",
      "7 is Odd Number\n",
      "8\n",
      "9 is Odd Number\n",
      "10\n"
     ]
    }
   ],
   "source": [
    "for num in list1:\n",
    "    if num % 2 == 0:\n",
    "        print(num)\n",
    "    else:\n",
    "        print('{} is Odd Number'.format(num))"
   ]
  },
  {
   "cell_type": "code",
   "execution_count": 18,
   "id": "7354b62e",
   "metadata": {},
   "outputs": [
    {
     "name": "stdout",
     "output_type": "stream",
     "text": [
      "55\n"
     ]
    }
   ],
   "source": [
    "list_sum = 0\n",
    "\n",
    "for num in list1:\n",
    "    list_sum = list_sum + num\n",
    "\n",
    "print(list_sum)"
   ]
  },
  {
   "cell_type": "code",
   "execution_count": 21,
   "id": "d36742a8",
   "metadata": {},
   "outputs": [
    {
     "name": "stdout",
     "output_type": "stream",
     "text": [
      "The count is :  0\n",
      "The count is :  1\n",
      "The count is :  2\n",
      "The count is :  3\n",
      "The count is :  4\n",
      "The count is :  5\n",
      "The count is :  6\n",
      "The count is :  7\n",
      "The count is :  8\n",
      "The count is :  9\n"
     ]
    }
   ],
   "source": [
    "for i in range(10):\n",
    "    print(\"The count is : \", i)"
   ]
  },
  {
   "cell_type": "code",
   "execution_count": 22,
   "id": "bbf9afc4",
   "metadata": {},
   "outputs": [
    {
     "name": "stdout",
     "output_type": "stream",
     "text": [
      "Current Letter :  p\n",
      "Current Letter :  y\n",
      "Current Letter :  t\n",
      "Current Letter :  h\n",
      "Current Letter :  o\n",
      "Current Letter :  n\n"
     ]
    }
   ],
   "source": [
    "for i in 'python':\n",
    "    print('Current Letter : ', i)"
   ]
  },
  {
   "cell_type": "code",
   "execution_count": 3,
   "id": "09cfaf24",
   "metadata": {},
   "outputs": [
    {
     "name": "stdout",
     "output_type": "stream",
     "text": [
      "Current fruit : banana\n",
      "Current fruit : apple\n",
      "Current fruit : mango\n"
     ]
    }
   ],
   "source": [
    "fruits = ['banana', 'apple', 'mango']\n",
    "for fruit in fruits:\n",
    "    print('Current fruit :', fruit)"
   ]
  },
  {
   "cell_type": "code",
   "execution_count": 10,
   "id": "2816f46b",
   "metadata": {},
   "outputs": [
    {
     "name": "stdout",
     "output_type": "stream",
     "text": [
      "10 equals 2 * 5\n",
      "11 is a prime number\n",
      "12 equals 2 * 6\n",
      "13 is a prime number\n",
      "14 equals 2 * 7\n",
      "15 is a prime number\n",
      "16 equals 2 * 8\n",
      "17 is a prime number\n",
      "18 equals 2 * 9\n",
      "19 is a prime number\n"
     ]
    }
   ],
   "source": [
    "for num in range(10, 20):\n",
    "    for i in range(2, num):\n",
    "        if num%i == 0:\n",
    "            j = num/i\n",
    "            print('%d equals %d * %d' % (num, i, j))\n",
    "            break\n",
    "        else:\n",
    "            print(num, 'is a prime number')\n",
    "            break"
   ]
  },
  {
   "cell_type": "markdown",
   "id": "a7d6d66e",
   "metadata": {},
   "source": [
    "# While Loop"
   ]
  },
  {
   "cell_type": "code",
   "execution_count": 4,
   "id": "082b91e4",
   "metadata": {},
   "outputs": [
    {
     "name": "stdout",
     "output_type": "stream",
     "text": [
      "The count is :  0\n",
      "The count is :  1\n",
      "The count is :  2\n",
      "The count is :  3\n",
      "The count is :  4\n",
      "The count is :  5\n",
      "The count is :  6\n",
      "The count is :  7\n",
      "The count is :  8\n",
      "Good Bye!\n"
     ]
    }
   ],
   "source": [
    "count = 0\n",
    "while(count<9):\n",
    "    print(\"The count is : \",count)\n",
    "    count = count + 1\n",
    "print(\"Good Bye!\")"
   ]
  },
  {
   "cell_type": "code",
   "execution_count": 13,
   "id": "f67b7423",
   "metadata": {},
   "outputs": [
    {
     "name": "stdout",
     "output_type": "stream",
     "text": [
      "x is crrently : 0\n",
      "x is stille less than 10, adding 1 to it\n",
      "x is crrently : 1\n",
      "x is stille less than 10, adding 1 to it\n",
      "x is crrently : 2\n",
      "x is stille less than 10, adding 1 to it\n",
      "x is crrently : 3\n",
      "x is stille less than 10, adding 1 to it\n",
      "x is crrently : 4\n",
      "x is stille less than 10, adding 1 to it\n",
      "x is crrently : 5\n",
      "x is stille less than 10, adding 1 to it\n",
      "x is crrently : 6\n",
      "x is stille less than 10, adding 1 to it\n",
      "x is crrently : 7\n",
      "x is stille less than 10, adding 1 to it\n",
      "x is crrently : 8\n",
      "x is stille less than 10, adding 1 to it\n",
      "x is crrently : 9\n",
      "x is stille less than 10, adding 1 to it\n",
      "Done\n"
     ]
    }
   ],
   "source": [
    "x = 0\n",
    "while x<10:\n",
    "    if x < 10:\n",
    "        print('x is crrently :',x)\n",
    "        print('x is stille less than 10, adding 1 to it')\n",
    "        x+=1\n",
    "print('Done')"
   ]
  },
  {
   "cell_type": "markdown",
   "id": "316642ed",
   "metadata": {},
   "source": [
    "## Some good examples"
   ]
  },
  {
   "cell_type": "code",
   "execution_count": 23,
   "id": "50a57ad3",
   "metadata": {},
   "outputs": [
    {
     "name": "stdout",
     "output_type": "stream",
     "text": [
      "['E', 'd', 'u', 'n', 'e', 't']\n"
     ]
    }
   ],
   "source": [
    "lst = [x for x in 'Edunet']\n",
    "print(lst)"
   ]
  },
  {
   "cell_type": "code",
   "execution_count": 19,
   "id": "e7990596",
   "metadata": {},
   "outputs": [
    {
     "name": "stdout",
     "output_type": "stream",
     "text": [
      "E\n",
      "d\n",
      "u\n",
      "n\n",
      "e\n",
      "t\n"
     ]
    }
   ],
   "source": [
    "for i in 'Edunet':\n",
    "    print(i)"
   ]
  },
  {
   "cell_type": "markdown",
   "id": "acfb84d5",
   "metadata": {},
   "source": [
    "# Range in Python"
   ]
  },
  {
   "cell_type": "markdown",
   "id": "2fe65f9a",
   "metadata": {},
   "source": [
    "for x in range(10):\n",
    "    print(x)"
   ]
  },
  {
   "cell_type": "code",
   "execution_count": 22,
   "id": "034b4b12",
   "metadata": {},
   "outputs": [
    {
     "name": "stdout",
     "output_type": "stream",
     "text": [
      "[0, 1, 4, 9, 16, 25, 36, 49, 64, 81, 100]\n"
     ]
    }
   ],
   "source": [
    "# Square numbers in range and turn into list\n",
    "sqr_lst = [x**2 for x in range(0, 11)]\n",
    "print(sqr_lst)"
   ]
  },
  {
   "cell_type": "code",
   "execution_count": 24,
   "id": "c6e4efce",
   "metadata": {},
   "outputs": [
    {
     "name": "stdout",
     "output_type": "stream",
     "text": [
      "1\n",
      "3\n",
      "5\n",
      "7\n"
     ]
    }
   ],
   "source": [
    "x = range(1, 9, 2)\n",
    "for n in x:\n",
    "    print(n)"
   ]
  },
  {
   "cell_type": "markdown",
   "id": "69dace40",
   "metadata": {},
   "source": [
    "# Pass Statement"
   ]
  },
  {
   "cell_type": "code",
   "execution_count": 2,
   "id": "253a82e6",
   "metadata": {},
   "outputs": [],
   "source": [
    "a = 33\n",
    "b = 200\n",
    "if b>a:\n",
    "    pass"
   ]
  },
  {
   "cell_type": "markdown",
   "id": "8388cebb",
   "metadata": {},
   "source": [
    "# Delete Statement"
   ]
  },
  {
   "cell_type": "code",
   "execution_count": 3,
   "id": "02307bdf",
   "metadata": {},
   "outputs": [
    {
     "name": "stdout",
     "output_type": "stream",
     "text": [
      "['Chemistry', 'Maths']\n"
     ]
    }
   ],
   "source": [
    "x = [\"Physics\", \"Chemistry\", \"Maths\"]\n",
    "del x[0]\n",
    "print(x)"
   ]
  },
  {
   "cell_type": "markdown",
   "id": "25bb94a8",
   "metadata": {},
   "source": [
    "# Return Statement"
   ]
  },
  {
   "cell_type": "code",
   "execution_count": 4,
   "id": "54a8b3e6",
   "metadata": {},
   "outputs": [
    {
     "name": "stdout",
     "output_type": "stream",
     "text": [
      "['Hello World', 10]\n"
     ]
    }
   ],
   "source": [
    "def fun():\n",
    "    str = 'Hello World'\n",
    "    x = 10\n",
    "    return [str, x];\n",
    "\n",
    "# Driver code to test above method \n",
    "list = fun()\n",
    "print(list)"
   ]
  },
  {
   "cell_type": "markdown",
   "id": "3b6b45bd",
   "metadata": {},
   "source": [
    "# Import Statement"
   ]
  },
  {
   "cell_type": "code",
   "execution_count": 5,
   "id": "d5ea8247",
   "metadata": {},
   "outputs": [
    {
     "name": "stdout",
     "output_type": "stream",
     "text": [
      "8.0\n"
     ]
    }
   ],
   "source": [
    "import math\n",
    "\n",
    "x = math.sqrt(64)\n",
    "print(x)"
   ]
  },
  {
   "cell_type": "markdown",
   "id": "5ca8c9d9",
   "metadata": {},
   "source": [
    "# Break Statement"
   ]
  },
  {
   "cell_type": "code",
   "execution_count": 6,
   "id": "e3307d89",
   "metadata": {},
   "outputs": [
    {
     "name": "stdout",
     "output_type": "stream",
     "text": [
      "1\n",
      "2\n",
      "3\n"
     ]
    }
   ],
   "source": [
    "i = 1\n",
    "while i < 9:\n",
    "    print(i)\n",
    "    if i == 3:\n",
    "        break\n",
    "    i += 1"
   ]
  },
  {
   "cell_type": "markdown",
   "id": "25c27653",
   "metadata": {},
   "source": [
    "# Continue Statement"
   ]
  },
  {
   "cell_type": "code",
   "execution_count": 8,
   "id": "03274e5f",
   "metadata": {},
   "outputs": [
    {
     "name": "stdout",
     "output_type": "stream",
     "text": [
      "1\n",
      "2\n",
      "4\n",
      "5\n",
      "6\n",
      "7\n",
      "8\n",
      "9\n",
      "10\n"
     ]
    }
   ],
   "source": [
    "i = 0\n",
    "while i < 10:\n",
    "    i += 1\n",
    "    if i == 3:\n",
    "        continue\n",
    "    print(i)"
   ]
  },
  {
   "cell_type": "markdown",
   "id": "a16a3def",
   "metadata": {},
   "source": [
    "# Function"
   ]
  },
  {
   "cell_type": "code",
   "execution_count": 12,
   "id": "e297b92b",
   "metadata": {},
   "outputs": [
    {
     "name": "stdout",
     "output_type": "stream",
     "text": [
      "Value is 10\n"
     ]
    }
   ],
   "source": [
    "def show(n):         # defining the function\n",
    "    print(\"Value is\",n)\n",
    "a = 10\n",
    "\n",
    "show(a)    # calling the function"
   ]
  },
  {
   "cell_type": "code",
   "execution_count": 14,
   "id": "22fd9aef",
   "metadata": {},
   "outputs": [
    {
     "name": "stdout",
     "output_type": "stream",
     "text": [
      "Hello Mr. Bermunda, Good MOrning!\n"
     ]
    }
   ],
   "source": [
    "def greetings(s):\n",
    "    print(f\"Hello Mr. {s}, Good MOrning!\")\n",
    "    \n",
    "greetings(\"Bermunda\")"
   ]
  },
  {
   "cell_type": "markdown",
   "id": "b49f6c89",
   "metadata": {},
   "source": [
    "### Local Value"
   ]
  },
  {
   "cell_type": "code",
   "execution_count": 16,
   "id": "af196733",
   "metadata": {},
   "outputs": [
    {
     "name": "stdout",
     "output_type": "stream",
     "text": [
      "Value of a inside function or local variable is : 10\n",
      "Value of a Outside Function : 20\n"
     ]
    }
   ],
   "source": [
    "# Example of local variable\n",
    "def test1():\n",
    "    a = 10      # Here a is a local variable\n",
    "    print(\"Value of a inside function or local variable is :\",a)\n",
    "    \n",
    "a = 20\n",
    "test1()\n",
    "print(\"Value of a Outside Function :\",a)"
   ]
  },
  {
   "cell_type": "markdown",
   "id": "78fe9eeb",
   "metadata": {},
   "source": [
    "### Global Variable"
   ]
  },
  {
   "cell_type": "code",
   "execution_count": 22,
   "id": "c5c435f6",
   "metadata": {},
   "outputs": [
    {
     "name": "stdout",
     "output_type": "stream",
     "text": [
      "Python is : awsome\n"
     ]
    }
   ],
   "source": [
    "# Example of global variable\n",
    "\n",
    "# Global variable as it is outside the scope of function\n",
    "x = 'awsome'\n",
    "\n",
    "# Scope starts\n",
    "def myFunc():\n",
    "    print(\"Python is :\",x)\n",
    "#Scope ended\n",
    "\n",
    "myFunc()"
   ]
  },
  {
   "cell_type": "markdown",
   "id": "e684a302",
   "metadata": {},
   "source": [
    "### Arguments in Python"
   ]
  },
  {
   "cell_type": "code",
   "execution_count": 23,
   "id": "711e572d",
   "metadata": {},
   "outputs": [
    {
     "name": "stdout",
     "output_type": "stream",
     "text": [
      "30\n"
     ]
    }
   ],
   "source": [
    "# Here a and b arethe parameter\n",
    "\n",
    "def sum(a, b):\n",
    "    return a+b\n",
    "\n",
    "res = sum(10, 20)\n",
    "print(res)"
   ]
  },
  {
   "cell_type": "markdown",
   "id": "f8cf3293",
   "metadata": {},
   "source": [
    "### Arbitrary arguments (*args)"
   ]
  },
  {
   "cell_type": "code",
   "execution_count": 27,
   "id": "6116dde2",
   "metadata": {},
   "outputs": [
    {
     "name": "stdout",
     "output_type": "stream",
     "text": [
      "The brilliant student is Pila\n",
      "('Bermunda', 'Binod', 'Pila')\n"
     ]
    }
   ],
   "source": [
    "def my_function(*Student):     # It will make the tuple of all the parameters\n",
    "    print(\"The brilliant student is\",Student[2])\n",
    "    print(Student)\n",
    "\n",
    "my_function(\"Bermunda\", \"Binod\", \"Susuwat\")"
   ]
  },
  {
   "cell_type": "markdown",
   "id": "3ce5dceb",
   "metadata": {},
   "source": [
    "### Keyword Argument (**Kwargs)"
   ]
  },
  {
   "cell_type": "code",
   "execution_count": 34,
   "id": "0a3c89b0",
   "metadata": {},
   "outputs": [
    {
     "name": "stdout",
     "output_type": "stream",
     "text": [
      "The brilliant student is Ravi Sharma\n",
      "{'fname': 'Ravi', 'lname': 'Sharma'}\n"
     ]
    }
   ],
   "source": [
    "def my_function(**Student):   # It will make the dictionary of parameters as key and arguments as value\n",
    "    print(\"The brilliant student is\", Student['fname'], Student['lname'])\n",
    "    print(Student)\n",
    "    \n",
    "my_function(fname = \"Ravi\", lname = \"Sharma\")"
   ]
  },
  {
   "cell_type": "markdown",
   "id": "fb38124a",
   "metadata": {},
   "source": [
    "### Lambda Function\n",
    "\n",
    "A lambda function is a small anonymous function.\n",
    "\n",
    "A lambda function can take any number of arguments, but can only have one expression."
   ]
  },
  {
   "cell_type": "code",
   "execution_count": 35,
   "id": "f4634417",
   "metadata": {},
   "outputs": [
    {
     "name": "stdout",
     "output_type": "stream",
     "text": [
      "15\n"
     ]
    }
   ],
   "source": [
    "x = lambda a: a + 10\n",
    "print(x(5))"
   ]
  },
  {
   "cell_type": "code",
   "execution_count": 36,
   "id": "d8b3cf74",
   "metadata": {},
   "outputs": [
    {
     "name": "stdout",
     "output_type": "stream",
     "text": [
      "15\n"
     ]
    }
   ],
   "source": [
    "x = lambda a, b: a+b\n",
    "print(x(5, 10))"
   ]
  },
  {
   "cell_type": "markdown",
   "id": "48cc8be5",
   "metadata": {},
   "source": [
    "# Libraries"
   ]
  },
  {
   "cell_type": "code",
   "execution_count": 37,
   "id": "918d3014",
   "metadata": {},
   "outputs": [
    {
     "name": "stdout",
     "output_type": "stream",
     "text": [
      "Requirement already satisfied: pandas in c:\\users\\sap\\anaconda3\\lib\\site-packages (1.4.2)\n",
      "Requirement already satisfied: python-dateutil>=2.8.1 in c:\\users\\sap\\anaconda3\\lib\\site-packages (from pandas) (2.8.2)\n",
      "Requirement already satisfied: numpy>=1.18.5 in c:\\users\\sap\\anaconda3\\lib\\site-packages (from pandas) (1.21.5)\n",
      "Requirement already satisfied: pytz>=2020.1 in c:\\users\\sap\\anaconda3\\lib\\site-packages (from pandas) (2021.3)\n",
      "Requirement already satisfied: six>=1.5 in c:\\users\\sap\\anaconda3\\lib\\site-packages (from python-dateutil>=2.8.1->pandas) (1.16.0)\n",
      "Note: you may need to restart the kernel to use updated packages.\n"
     ]
    }
   ],
   "source": [
    "pip install pandas"
   ]
  },
  {
   "cell_type": "markdown",
   "id": "febcd5a3",
   "metadata": {},
   "source": [
    "### Making our own library"
   ]
  },
  {
   "cell_type": "code",
   "execution_count": 1,
   "id": "0304f76d",
   "metadata": {},
   "outputs": [
    {
     "name": "stdout",
     "output_type": "stream",
     "text": [
      "Hello, Bremunda\n"
     ]
    }
   ],
   "source": [
    "import mygreetings\n",
    "mygreetings.greeting(\"Bremunda\")"
   ]
  },
  {
   "cell_type": "code",
   "execution_count": 3,
   "id": "1f0a8dcc",
   "metadata": {},
   "outputs": [
    {
     "data": {
      "text/plain": [
       "'Bermunda'"
      ]
     },
     "execution_count": 3,
     "metadata": {},
     "output_type": "execute_result"
    }
   ],
   "source": [
    "import info\n",
    "info.person1['name']"
   ]
  },
  {
   "cell_type": "markdown",
   "id": "7dbf59a0",
   "metadata": {},
   "source": [
    "### Platform library"
   ]
  },
  {
   "cell_type": "code",
   "execution_count": 9,
   "id": "0ae7b7d5",
   "metadata": {},
   "outputs": [
    {
     "name": "stdout",
     "output_type": "stream",
     "text": [
      "Windows\n"
     ]
    }
   ],
   "source": [
    "import platform\n",
    "\n",
    "x = platform.system()\n",
    "# func = dir(platform)\n",
    "print(x)\n",
    "# print(func)"
   ]
  },
  {
   "cell_type": "markdown",
   "id": "b53f31a9",
   "metadata": {},
   "source": [
    "### To see how many function inside math library using dir function"
   ]
  },
  {
   "cell_type": "code",
   "execution_count": 7,
   "id": "a8c25e44",
   "metadata": {},
   "outputs": [
    {
     "name": "stdout",
     "output_type": "stream",
     "text": [
      "['__doc__', '__loader__', '__name__', '__package__', '__spec__', 'acos', 'acosh', 'asin', 'asinh', 'atan', 'atan2', 'atanh', 'ceil', 'comb', 'copysign', 'cos', 'cosh', 'degrees', 'dist', 'e', 'erf', 'erfc', 'exp', 'expm1', 'fabs', 'factorial', 'floor', 'fmod', 'frexp', 'fsum', 'gamma', 'gcd', 'hypot', 'inf', 'isclose', 'isfinite', 'isinf', 'isnan', 'isqrt', 'lcm', 'ldexp', 'lgamma', 'log', 'log10', 'log1p', 'log2', 'modf', 'nan', 'nextafter', 'perm', 'pi', 'pow', 'prod', 'radians', 'remainder', 'sin', 'sinh', 'sqrt', 'tan', 'tanh', 'tau', 'trunc', 'ulp']\n"
     ]
    }
   ],
   "source": [
    "import math\n",
    "\n",
    "x = dir(math)\n",
    "print(x)"
   ]
  },
  {
   "cell_type": "markdown",
   "id": "63928081",
   "metadata": {},
   "source": [
    "# OOPs"
   ]
  },
  {
   "cell_type": "code",
   "execution_count": 13,
   "id": "a5f9e074",
   "metadata": {},
   "outputs": [
    {
     "name": "stdout",
     "output_type": "stream",
     "text": [
      "Toyota 2016\n"
     ]
    }
   ],
   "source": [
    "class car:\n",
    "    def __init__(self, modelname, year):\n",
    "        self.modelname = modelname\n",
    "        self.year = year\n",
    "    def display(self):\n",
    "        print(self.modelname, self.year)\n",
    "        \n",
    "c1 = car('Toyota', 2016)\n",
    "c1.display()"
   ]
  },
  {
   "cell_type": "code",
   "execution_count": 21,
   "id": "8812b9a8",
   "metadata": {},
   "outputs": [
    {
     "name": "stdout",
     "output_type": "stream",
     "text": [
      "Hello my name is John\n"
     ]
    }
   ],
   "source": [
    "class Person:\n",
    "    def __init__(mysillyobject, name, age):\n",
    "        mysillyobject.name = name\n",
    "        mysillyobject.age = age\n",
    "        \n",
    "    def myfunc(obj):\n",
    "        print(\"Hello my name is\", obj.name)\n",
    "        \n",
    "p1 = Person(\"John\", 36)\n",
    "p1.myfunc()"
   ]
  },
  {
   "cell_type": "markdown",
   "id": "8f9d6c48",
   "metadata": {},
   "source": [
    "### Single Inheritance"
   ]
  },
  {
   "cell_type": "code",
   "execution_count": 23,
   "id": "3af385bd",
   "metadata": {},
   "outputs": [
    {
     "name": "stdout",
     "output_type": "stream",
     "text": [
      "First Function\n",
      "Second function\n"
     ]
    }
   ],
   "source": [
    "class Parent():\n",
    "    def first(self):\n",
    "        print(\"First Function\")\n",
    "        \n",
    "class Child(Parent):\n",
    "    def second(self):\n",
    "        print(\"Second function\")\n",
    "        \n",
    "ob = Child()\n",
    "ob.first()\n",
    "ob.second()"
   ]
  },
  {
   "cell_type": "markdown",
   "id": "13479f4f",
   "metadata": {},
   "source": [
    "### Multiple Inheritance"
   ]
  },
  {
   "cell_type": "code",
   "execution_count": 24,
   "id": "e604f60d",
   "metadata": {},
   "outputs": [
    {
     "name": "stdout",
     "output_type": "stream",
     "text": [
      "Function one\n",
      "Function two\n",
      "Function three\n"
     ]
    }
   ],
   "source": [
    "class Parent():\n",
    "    def func1(self):\n",
    "        print('Function one')\n",
    "\n",
    "class Parent1:\n",
    "    def func2(self):\n",
    "        print('Function two')\n",
    "        \n",
    "class Parent2(Parent, Parent1):\n",
    "    def func3(self):\n",
    "        print(\"Function three\")\n",
    "        \n",
    "ob = Parent2()\n",
    "ob.func1()\n",
    "ob.func2()\n",
    "ob.func3()"
   ]
  }
 ],
 "metadata": {
  "kernelspec": {
   "display_name": "Python 3 (ipykernel)",
   "language": "python",
   "name": "python3"
  },
  "language_info": {
   "codemirror_mode": {
    "name": "ipython",
    "version": 3
   },
   "file_extension": ".py",
   "mimetype": "text/x-python",
   "name": "python",
   "nbconvert_exporter": "python",
   "pygments_lexer": "ipython3",
   "version": "3.9.12"
  }
 },
 "nbformat": 4,
 "nbformat_minor": 5
}
